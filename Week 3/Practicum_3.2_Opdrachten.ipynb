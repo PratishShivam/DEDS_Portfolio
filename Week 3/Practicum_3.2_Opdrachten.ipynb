{
 "cells": [
  {
   "cell_type": "markdown",
   "metadata": {},
   "source": [
    "## List (array) & Quicksort"
   ]
  },
  {
   "cell_type": "code",
   "execution_count": 9,
   "metadata": {},
   "outputs": [
    {
     "name": "stdout",
     "output_type": "stream",
     "text": [
      "Original Array:\n",
      "[3, 6, 8, 10, 1, 2, 1]\n",
      "\n",
      "Sorted array using QuickSort:\n",
      "[1, 1, 2, 3, 6, 8, 10]\n"
     ]
    }
   ],
   "source": [
    "def quicksort(arr):\n",
    "    # Als de array leeg is of slechts één element bevat, retourneer de array\n",
    "    if len(arr) <= 1:\n",
    "        return arr\n",
    "\n",
    "    # Kies een pivot-element, (element in the midden)\n",
    "    pivot = arr[len(arr) // 2]\n",
    "\n",
    "    # Splits de array in drie delen: links, midden en rechts ten opzichte van de pivot\n",
    "    left = [x for x in arr if x < pivot]\n",
    "    middle = [x for x in arr if x == pivot]\n",
    "    right = [x for x in arr if x > pivot]\n",
    "\n",
    "    # Combineer de gesorteerde delen recursief en voeg ze samen met de pivot\n",
    "    return quicksort(left) + middle + quicksort(right)\n",
    "\n",
    "# Voorbeeld array\n",
    "input_array = [3, 6, 8, 10, 1, 2, 1]\n",
    "\n",
    "print(\"Original Array:\")\n",
    "print(input_array)\n",
    "\n",
    "print(\"\\nSorted array using QuickSort:\")\n",
    "sorted_array = quicksort(input_array)\n",
    "print(sorted_array)\n"
   ]
  },
  {
   "cell_type": "markdown",
   "metadata": {},
   "source": [
    "## Stack"
   ]
  },
  {
   "cell_type": "code",
   "execution_count": 8,
   "metadata": {},
   "outputs": [
    {
     "name": "stdout",
     "output_type": "stream",
     "text": [
      "Stack after pushing elements: [1, 2, 3]\n",
      "\n",
      "Popped item from the stack: 3\n",
      "Stack after popping an element: [1, 2]\n",
      "\n",
      "Top item of the stack: 2\n",
      "Size of the stack: 2\n"
     ]
    }
   ],
   "source": [
    "class Stack:\n",
    "    def __init__(self):\n",
    "        # Maakt een lege lijst om de elementen van de stapel op te slaan\n",
    "        self.items = []\n",
    "\n",
    "    def is_empty(self):\n",
    "        # Controleert of de stapel leeg is\n",
    "        return len(self.items) == 0\n",
    "\n",
    "    def push(self, item):\n",
    "        # Voegt een nieuw element toe aan de bovenkant van de Stack\n",
    "        self.items.append(item)\n",
    "\n",
    "    def pop(self):\n",
    "        if not self.is_empty():\n",
    "            # Haalt het bovenste element van de Stack en retourneert het\n",
    "            return self.items.pop()\n",
    "        else:\n",
    "            # Gooit een IndexError als de Stack leeg is en er niets kan worden verwijderd\n",
    "            raise IndexError(\"pop from an empty stack\")\n",
    "\n",
    "    def peek(self):\n",
    "        if not self.is_empty():\n",
    "            # Retourneert het bovenste element van de Stack zonder het te verwijderen\n",
    "            return self.items[-1]\n",
    "        else:\n",
    "            # Gooit een IndexError als de Stack leeg is en er geen bovenste element is om te bekijken\n",
    "            raise IndexError(\"peek from an empty stack\")\n",
    "\n",
    "    def size(self):\n",
    "        # Retourneert het aantal elementen in de Stack\n",
    "        return len(self.items)\n",
    "\n",
    "\n",
    "stack = Stack()\n",
    "\n",
    "# Elementen toevoegen\n",
    "stack.push(1)\n",
    "stack.push(2)\n",
    "stack.push(3)\n",
    "\n",
    "\n",
    "print(\"Stack after pushing elements:\", stack.items)\n",
    "\n",
    "# Een element van de stapel halen\n",
    "popped_item = stack.pop()\n",
    "print(\"\\nPopped item from the stack:\", popped_item)\n",
    "\n",
    "# De stapel afdrukken na het verwijderen van een element\n",
    "print(\"Stack after popping an element:\", stack.items)\n",
    "\n",
    "# Het bovenste element van de stapel bekijken\n",
    "top_item = stack.peek()\n",
    "print(\"\\nTop item of the stack:\", top_item)\n",
    "\n",
    "# De grootte van de stapel afdrukken\n",
    "print(\"Size of the stack:\", stack.size())\n"
   ]
  },
  {
   "cell_type": "markdown",
   "metadata": {},
   "source": [
    "## Dictionary"
   ]
  },
  {
   "cell_type": "code",
   "execution_count": 7,
   "metadata": {},
   "outputs": [
    {
     "name": "stdout",
     "output_type": "stream",
     "text": [
      "Original Dictionary:\n",
      "{'name': 'John', 'age': 30, 'city': 'New York'}\n",
      "\n",
      "Dictionary after adding a new element:\n",
      "{'name': 'John', 'age': 30, 'city': 'New York', 'occupation': 'Engineer'}\n",
      "\n",
      "Dictionary after removing an element:\n",
      "{'name': 'John', 'city': 'New York', 'occupation': 'Engineer'}\n",
      "\n",
      "Value of 'name' key: John\n"
     ]
    }
   ],
   "source": [
    "# Voorbeeld gebruik van Dictionary\n",
    "dict = {\"name\": \"John\", \"age\": 30, \"city\": \"New York\"}\n",
    "\n",
    "print(\"Original Dictionary:\")\n",
    "print(dict)\n",
    "\n",
    "# Toevoegen van een nieuw element\n",
    "dict[\"occupation\"] = \"Engineer\"\n",
    "print(\"\\nDictionary after adding a new element:\")\n",
    "print(dict)\n",
    "\n",
    "# Verwijderen van een element\n",
    "removed_value = dict.pop(\"age\")\n",
    "print(\"\\nDictionary after removing an element:\")\n",
    "print(dict)\n",
    "\n",
    "# Toegang tot een specifieke waarde\n",
    "print(\"\\nValue of 'name' key:\", dict[\"name\"])"
   ]
  }
 ],
 "metadata": {
  "kernelspec": {
   "display_name": "deds-portfolio-K2KmTfRe-py3.12",
   "language": "python",
   "name": "python3"
  },
  "language_info": {
   "codemirror_mode": {
    "name": "ipython",
    "version": 3
   },
   "file_extension": ".py",
   "mimetype": "text/x-python",
   "name": "python",
   "nbconvert_exporter": "python",
   "pygments_lexer": "ipython3",
   "version": "3.12.2"
  }
 },
 "nbformat": 4,
 "nbformat_minor": 2
}
