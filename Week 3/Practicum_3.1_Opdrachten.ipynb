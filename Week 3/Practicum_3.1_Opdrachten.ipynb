{
 "cells": [
  {
   "cell_type": "code",
   "execution_count": 10,
   "metadata": {},
   "outputs": [
    {
     "name": "stdout",
     "output_type": "stream",
     "text": [
      "Voor de sortering:\n",
      "Array 1: [27, 19, 7, 33, 71, 72, 100, 68, 48, 23, 15, 73, 66, 27, 48, 8, 38, 67, 60, 91]\n",
      "Array 2: [37, 79, 79, 13, 1, 53, 100, 1, 58, 32, 98, 33, 16, 17, 32, 79, 16, 67, 15, 30]\n",
      "Array 3: [76, 51, 40, 23, 46, 98, 8, 86, 6, 96, 34, 70, 40, 35, 6, 6, 76, 86, 4, 7]\n"
     ]
    }
   ],
   "source": [
    "import random\n",
    "\n",
    "# Generate\n",
    "array1 = [random.randint(1, 100) for _ in range(20)]\n",
    "array2 = [random.randint(1, 100) for _ in range(20)]\n",
    "array3 = [random.randint(1, 100) for _ in range(20)]\n",
    "\n",
    "# Originele arrays\n",
    "print(\"Voor de sortering:\")\n",
    "print(\"Array 1:\", array1)\n",
    "print(\"Array 2:\", array2)\n",
    "print(\"Array 3:\", array3)\n"
   ]
  },
  {
   "cell_type": "markdown",
   "metadata": {},
   "source": [
    "## Bucket Sort"
   ]
  },
  {
   "cell_type": "code",
   "execution_count": 11,
   "metadata": {},
   "outputs": [
    {
     "name": "stdout",
     "output_type": "stream",
     "text": [
      "\n",
      "Na de sortering:\n",
      "Bucket Sort - Array 1: [7, 8, 15, 19, 23, 27, 27, 33, 38, 48, 48, 60, 66, 67, 68, 71, 72, 73, 91, 100]\n"
     ]
    }
   ],
   "source": [
    "# Bucket Sort\n",
    "def bucket_sort(arr):\n",
    "    return sorted(arr)\n",
    "\n",
    "sorted_array1 = bucket_sort(array1)\n",
    "print(\"\\nNa de sortering:\")\n",
    "print(\"Bucket Sort - Array 1:\", sorted_array1)\n"
   ]
  },
  {
   "cell_type": "markdown",
   "metadata": {},
   "source": [
    "## Selection Sort"
   ]
  },
  {
   "cell_type": "code",
   "execution_count": 12,
   "metadata": {},
   "outputs": [
    {
     "name": "stdout",
     "output_type": "stream",
     "text": [
      "Selection Sort - Array 2: [1, 1, 13, 15, 16, 16, 17, 30, 32, 32, 33, 37, 53, 58, 67, 79, 79, 79, 98, 100]\n"
     ]
    }
   ],
   "source": [
    "# Selection Sort\n",
    "def selection_sort(arr):\n",
    "    n = len(arr)\n",
    "    for i in range(n):\n",
    "        min_index = i\n",
    "        for j in range(i+1, n):\n",
    "            if arr[j] < arr[min_index]:\n",
    "                min_index = j\n",
    "        arr[i], arr[min_index] = arr[min_index], arr[i]\n",
    "    return arr\n",
    "\n",
    "sorted_array2 = selection_sort(array2)\n",
    "print(\"Selection Sort - Array 2:\", sorted_array2)\n"
   ]
  },
  {
   "cell_type": "markdown",
   "metadata": {},
   "source": [
    "## Quick Sort"
   ]
  },
  {
   "cell_type": "code",
   "execution_count": 14,
   "metadata": {},
   "outputs": [
    {
     "name": "stdout",
     "output_type": "stream",
     "text": [
      "Quick Sort - Array 3: [4, 6, 6, 6, 7, 8, 23, 34, 35, 40, 40, 46, 51, 70, 76, 76, 86, 86, 96, 98]\n"
     ]
    }
   ],
   "source": [
    "# Quick Sort\n",
    "def quick_sort(arr):\n",
    "    if len(arr) <= 1:\n",
    "        return arr\n",
    "    pivot = arr[len(arr) // 2]\n",
    "    left = [x for x in arr if x < pivot]\n",
    "    middle = [x for x in arr if x == pivot]\n",
    "    right = [x for x in arr if x > pivot]\n",
    "    return quick_sort(left) + middle + quick_sort(right)\n",
    "\n",
    "sorted_array3 = quick_sort(array3)\n",
    "print(\"Quick Sort - Array 3:\", sorted_array3)\n"
   ]
  }
 ],
 "metadata": {
  "kernelspec": {
   "display_name": "deds-portfolio-K2KmTfRe-py3.12",
   "language": "python",
   "name": "python3"
  },
  "language_info": {
   "codemirror_mode": {
    "name": "ipython",
    "version": 3
   },
   "file_extension": ".py",
   "mimetype": "text/x-python",
   "name": "python",
   "nbconvert_exporter": "python",
   "pygments_lexer": "ipython3",
   "version": "3.12.2"
  }
 },
 "nbformat": 4,
 "nbformat_minor": 2
}
