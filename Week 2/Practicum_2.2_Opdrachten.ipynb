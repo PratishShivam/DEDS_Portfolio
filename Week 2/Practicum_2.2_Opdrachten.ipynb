{
 "cells": [
  {
   "cell_type": "markdown",
   "metadata": {},
   "source": [
    "# Practicumopdrachten Week 2.2 (eerste kans)"
   ]
  },
  {
   "cell_type": "markdown",
   "metadata": {},
   "source": [
    "## Dependencies importeren"
   ]
  },
  {
   "cell_type": "markdown",
   "metadata": {},
   "source": [
    "Importeer in het codeblok hieronder de packages die worden gebruikt om data in te lezen. Geef er ook de gebruikelijke aliassen aan.<br>\n",
    "N.B.: de 2 reeds geschreven coderegels zorgen ervoor dat eventuele warnings, die code-outputs lelijker maken, uitgezet worden."
   ]
  },
  {
   "cell_type": "code",
   "execution_count": 17,
   "metadata": {},
   "outputs": [],
   "source": [
    "\n",
    "import warnings\n",
    "warnings.simplefilter('ignore')"
   ]
  },
  {
   "cell_type": "markdown",
   "metadata": {},
   "source": [
    "Zet het bestand go_sales.sqlite in hetzelfde mapje als dit notebook."
   ]
  },
  {
   "cell_type": "markdown",
   "metadata": {},
   "source": [
    "## Databasetabel inlezen"
   ]
  },
  {
   "cell_type": "markdown",
   "metadata": {},
   "source": [
    "Creëer een databaseconnectie met het bestand go_sales.sqlite."
   ]
  },
  {
   "cell_type": "code",
   "execution_count": 18,
   "metadata": {},
   "outputs": [],
   "source": [
    "import pandas as pd\n",
    "import sqlite3\n",
    "\n",
    "database_path = 'go_sales.sqlite'\n",
    "conn = sqlite3.connect(database_path)\n",
    "\n"
   ]
  },
  {
   "cell_type": "markdown",
   "metadata": {},
   "source": [
    "Gebruik de onderstaande sql_query om te achterhalen welke databasetabellen in go_sales zitten."
   ]
  },
  {
   "cell_type": "code",
   "execution_count": 21,
   "metadata": {},
   "outputs": [
    {
     "name": "stdout",
     "output_type": "stream",
     "text": [
      "                name\n",
      "0            country\n",
      "1      order_details\n",
      "2       order_header\n",
      "3       order_method\n",
      "4            product\n",
      "5       product_line\n",
      "6       product_type\n",
      "7      retailer_site\n",
      "8      return_reason\n",
      "9      returned_item\n",
      "10      sales_branch\n",
      "11       sales_staff\n",
      "12  SALES_TARGETData\n",
      "13   sqlite_sequence\n"
     ]
    }
   ],
   "source": [
    "sql_query = \"SELECT name FROM sqlite_master WHERE type='table';\"\n",
    "tables_df = pd.read_sql_query(sql_query, conn)\n",
    "\n",
    "print(tables_df)"
   ]
  },
  {
   "cell_type": "markdown",
   "metadata": {},
   "source": [
    "Gebruik de gecreëerde databaseconnectie om de resultaten van de volgende query in een DataFrame te zetten:<br>\n",
    "*SELECT * FROM sales_staff* "
   ]
  },
  {
   "cell_type": "code",
   "execution_count": 12,
   "metadata": {},
   "outputs": [
    {
     "name": "stdout",
     "output_type": "stream",
     "text": [
      "    SALES_STAFF_CODE FIRST_NAME   LAST_NAME                   POSITION_EN  \\\n",
      "0                100     Tuomas  Savolainen  Level 2 Sales Representative   \n",
      "1                101   Chang-ho         Kim  Level 2 Sales Representative   \n",
      "2                102    Jung-ho        Choi  Level 3 Sales Representative   \n",
      "3                103  Kwei-Ping         Kao  Level 2 Sales Representative   \n",
      "4                104  Chin-Tsai        Fang  Level 3 Sales Representative   \n",
      "..               ...        ...         ...                           ...   \n",
      "97                95      Tomás    Iglesias  Level 2 Sales Representative   \n",
      "98                96     Bayard       Lopes                Branch Manager   \n",
      "99                97     Viviam      Barros  Level 3 Sales Representative   \n",
      "100               98    Eduardo   Guimarães  Level 2 Sales Representative   \n",
      "101               99     Helena    Lindholm  Level 3 Sales Representative   \n",
      "\n",
      "              WORK_PHONE EXTENSION                  FAX  \\\n",
      "0    +358(0)17 - 433 127       825  +358(0)17 - 433 129   \n",
      "1          82-2-778-6587      1228        82-2-778-6586   \n",
      "2          82-2-778-6587      2641        82-2-778-6586   \n",
      "3        886-2-2975-1988      1541      886-2-2989-4978   \n",
      "4        886-2-2975-1988      2311      886-2-2989-4978   \n",
      "..                   ...       ...                  ...   \n",
      "97       +35 94 322 3540       325      +35 91 548 1637   \n",
      "98     +55 (11) 344-4444      3490    +55 (11) 333-2223   \n",
      "99     +55 (11) 344-4444      3364    +55 (11) 333-2223   \n",
      "100    +55 (11) 344-4444      1442    +55 (11) 333-2223   \n",
      "101  +358(0)17 - 433 127       489  +358(0)17 - 433 129   \n",
      "\n",
      "                       EMAIL  DATE_HIRED SALES_BRANCH_CODE TRIAL888  \n",
      "0    TSavolainen@grtd123.com   23-7-2014                31        T  \n",
      "1           CKim@grtd123.com  15-12-2014                32        T  \n",
      "2          JChoi@grtd123.com  27-11-2014                32        T  \n",
      "3          KKwao@grtd123.com   7-10-2014                33        T  \n",
      "4           CFon@grtd123.com    8-5-2012                33        T  \n",
      "..                       ...         ...               ...      ...  \n",
      "97     TIglesias@grtd123.com   19-2-2014                29        T  \n",
      "98        BLopes@grtd123.com   12-8-2013                30        T  \n",
      "99       VBarros@grtd123.com   10-2-2017                30        T  \n",
      "100   EGuimaraes@grtd123.com   14-2-2015                30        T  \n",
      "101    HLindholm@grtd123.com   17-8-2013                31        T  \n",
      "\n",
      "[102 rows x 11 columns]\n"
     ]
    }
   ],
   "source": [
    "query = 'SELECT * FROM sales_staff'\n",
    "result = pd.read_sql_query(query, conn)\n",
    "\n",
    "\n",
    "print(result)\n"
   ]
  },
  {
   "cell_type": "markdown",
   "metadata": {},
   "source": [
    "## DataFrames uitsplitsen en opbouwen met Series"
   ]
  },
  {
   "cell_type": "markdown",
   "metadata": {},
   "source": [
    "De volgende 5 kolommen hebben betrekking op de contactdetails van elke medewerker in dit DataFrame:\n",
    "- SALES_STAFF_CODE\n",
    "- WORK_PHONE\n",
    "- EXTENSION\n",
    "- FAX\n",
    "- EMAIL\n",
    "\n",
    "Maak van elk van deze 5 kolommen een serie."
   ]
  },
  {
   "cell_type": "code",
   "execution_count": 16,
   "metadata": {},
   "outputs": [
    {
     "name": "stdout",
     "output_type": "stream",
     "text": [
      "SALES_STAFF_CODE Serie:\n",
      "0      100\n",
      "1      101\n",
      "2      102\n",
      "3      103\n",
      "4      104\n",
      "      ... \n",
      "97      95\n",
      "98      96\n",
      "99      97\n",
      "100     98\n",
      "101     99\n",
      "Name: SALES_STAFF_CODE, Length: 102, dtype: object\n",
      "\n",
      "WORK_PHONE Serie:\n",
      "0      +358(0)17 - 433 127\n",
      "1            82-2-778-6587\n",
      "2            82-2-778-6587\n",
      "3          886-2-2975-1988\n",
      "4          886-2-2975-1988\n",
      "              ...         \n",
      "97         +35 94 322 3540\n",
      "98       +55 (11) 344-4444\n",
      "99       +55 (11) 344-4444\n",
      "100      +55 (11) 344-4444\n",
      "101    +358(0)17 - 433 127\n",
      "Name: WORK_PHONE, Length: 102, dtype: object\n",
      "\n",
      "EXTENSION Serie:\n",
      "0       825\n",
      "1      1228\n",
      "2      2641\n",
      "3      1541\n",
      "4      2311\n",
      "       ... \n",
      "97      325\n",
      "98     3490\n",
      "99     3364\n",
      "100    1442\n",
      "101     489\n",
      "Name: EXTENSION, Length: 102, dtype: object\n",
      "\n",
      "FAX Serie:\n",
      "0      +358(0)17 - 433 129\n",
      "1            82-2-778-6586\n",
      "2            82-2-778-6586\n",
      "3          886-2-2989-4978\n",
      "4          886-2-2989-4978\n",
      "              ...         \n",
      "97         +35 91 548 1637\n",
      "98       +55 (11) 333-2223\n",
      "99       +55 (11) 333-2223\n",
      "100      +55 (11) 333-2223\n",
      "101    +358(0)17 - 433 129\n",
      "Name: FAX, Length: 102, dtype: object\n",
      "\n",
      "EMAIL Serie:\n",
      "0      TSavolainen@grtd123.com\n",
      "1             CKim@grtd123.com\n",
      "2            JChoi@grtd123.com\n",
      "3            KKwao@grtd123.com\n",
      "4             CFon@grtd123.com\n",
      "                ...           \n",
      "97       TIglesias@grtd123.com\n",
      "98          BLopes@grtd123.com\n",
      "99         VBarros@grtd123.com\n",
      "100     EGuimaraes@grtd123.com\n",
      "101      HLindholm@grtd123.com\n",
      "Name: EMAIL, Length: 102, dtype: object\n"
     ]
    }
   ],
   "source": [
    "import sqlite3\n",
    "import pandas as pd\n",
    "\n",
    "db_connection = sqlite3.connect(\"go_sales.sqlite\")\n",
    "\n",
    "query = \"SELECT * FROM sales_staff\"\n",
    "df = pd.read_sql_query(query, db_connection)\n",
    "\n",
    "# Kolommen worden naar series omgezet\n",
    "sales_staff_code_series = df['SALES_STAFF_CODE']\n",
    "work_phone_series = df['WORK_PHONE']\n",
    "extension_series = df['EXTENSION']\n",
    "fax_series = df['FAX']\n",
    "email_series = df['EMAIL']\n",
    "\n",
    "print(\"SALES_STAFF_CODE Serie:\")\n",
    "print(sales_staff_code_series)\n",
    "\n",
    "print(\"\\nWORK_PHONE Serie:\")\n",
    "print(work_phone_series)\n",
    "\n",
    "print(\"\\nEXTENSION Serie:\")\n",
    "print(extension_series)\n",
    "\n",
    "print(\"\\nFAX Serie:\")\n",
    "print(fax_series)\n",
    "\n",
    "print(\"\\nEMAIL Serie:\")\n",
    "print(email_series)\n"
   ]
  },
  {
   "cell_type": "markdown",
   "metadata": {},
   "source": [
    "Zet allevijf gecreëerde series als kolommen naast elkaar in een DataFrame (*contact_details*). Gebruik pd.concat(...)<br>\n",
    "Hulpvraag: welke waarde geef je aan de axis-parameter?`"
   ]
  },
  {
   "cell_type": "code",
   "execution_count": 19,
   "metadata": {},
   "outputs": [
    {
     "name": "stdout",
     "output_type": "stream",
     "text": [
      "    SALES_STAFF_CODE           WORK_PHONE EXTENSION                  FAX  \\\n",
      "0                100  +358(0)17 - 433 127       825  +358(0)17 - 433 129   \n",
      "1                101        82-2-778-6587      1228        82-2-778-6586   \n",
      "2                102        82-2-778-6587      2641        82-2-778-6586   \n",
      "3                103      886-2-2975-1988      1541      886-2-2989-4978   \n",
      "4                104      886-2-2975-1988      2311      886-2-2989-4978   \n",
      "..               ...                  ...       ...                  ...   \n",
      "97                95      +35 94 322 3540       325      +35 91 548 1637   \n",
      "98                96    +55 (11) 344-4444      3490    +55 (11) 333-2223   \n",
      "99                97    +55 (11) 344-4444      3364    +55 (11) 333-2223   \n",
      "100               98    +55 (11) 344-4444      1442    +55 (11) 333-2223   \n",
      "101               99  +358(0)17 - 433 127       489  +358(0)17 - 433 129   \n",
      "\n",
      "                       EMAIL  \n",
      "0    TSavolainen@grtd123.com  \n",
      "1           CKim@grtd123.com  \n",
      "2          JChoi@grtd123.com  \n",
      "3          KKwao@grtd123.com  \n",
      "4           CFon@grtd123.com  \n",
      "..                       ...  \n",
      "97     TIglesias@grtd123.com  \n",
      "98        BLopes@grtd123.com  \n",
      "99       VBarros@grtd123.com  \n",
      "100   EGuimaraes@grtd123.com  \n",
      "101    HLindholm@grtd123.com  \n",
      "\n",
      "[102 rows x 5 columns]\n"
     ]
    }
   ],
   "source": [
    "# Axis-parameter waarde is 1\n",
    "contact_details = pd.concat([sales_staff_code_series, work_phone_series, extension_series, fax_series, email_series], axis=1) \n",
    "\n",
    "print(contact_details)\n"
   ]
  },
  {
   "cell_type": "markdown",
   "metadata": {},
   "source": [
    "## Series en DataFrames maken vanuit lists en dictionaries"
   ]
  },
  {
   "cell_type": "markdown",
   "metadata": {},
   "source": [
    "Met .head(*getal*) kan je de bovenste *getal* rijen van een tabel selecteren.<br>\n",
    "Selecteer op deze manier de bovenste 5 rijen van *contact_details*.<br>\n",
    "Sla dit resultaat op in een nieuw DataFrame."
   ]
  },
  {
   "cell_type": "code",
   "execution_count": 20,
   "metadata": {},
   "outputs": [
    {
     "name": "stdout",
     "output_type": "stream",
     "text": [
      "  SALES_STAFF_CODE           WORK_PHONE EXTENSION                  FAX  \\\n",
      "0              100  +358(0)17 - 433 127       825  +358(0)17 - 433 129   \n",
      "1              101        82-2-778-6587      1228        82-2-778-6586   \n",
      "2              102        82-2-778-6587      2641        82-2-778-6586   \n",
      "3              103      886-2-2975-1988      1541      886-2-2989-4978   \n",
      "4              104      886-2-2975-1988      2311      886-2-2989-4978   \n",
      "\n",
      "                     EMAIL  \n",
      "0  TSavolainen@grtd123.com  \n",
      "1         CKim@grtd123.com  \n",
      "2        JChoi@grtd123.com  \n",
      "3        KKwao@grtd123.com  \n",
      "4         CFon@grtd123.com  \n"
     ]
    }
   ],
   "source": [
    " #.head selecteert de eerste 5 rijen\n",
    "contact_details_head = contact_details.head(5)\n",
    "\n",
    "print(contact_details_head)\n"
   ]
  },
  {
   "cell_type": "markdown",
   "metadata": {},
   "source": [
    "Aan deze 10 rijen met contactdetails willen we 3 kolommen toevoegen: 'FIRST_LANGUAGE', 'SECOND_LANGUAGE' & 'THIRD_LANGUAGE'.<br>\n",
    "Iedereens 'First Language' is Engels, afgekort 'EN'. Maak een lijst waarin 5x 'EN' staat.<br>\n",
    "Converteer deze lijst vervolgens naar een serie en voeg deze horizontaal samen met het resultaat van de vorige opdracht.<br>\n",
    "Vergeet niet een passende naam te geven aan de nieuw ontstane kolom."
   ]
  },
  {
   "cell_type": "code",
   "execution_count": 34,
   "metadata": {},
   "outputs": [
    {
     "name": "stdout",
     "output_type": "stream",
     "text": [
      "  SALES_STAFF_CODE           WORK_PHONE EXTENSION                  FAX  \\\n",
      "0              100  +358(0)17 - 433 127       825  +358(0)17 - 433 129   \n",
      "1              101        82-2-778-6587      1228        82-2-778-6586   \n",
      "2              102        82-2-778-6587      2641        82-2-778-6586   \n",
      "3              103      886-2-2975-1988      1541      886-2-2989-4978   \n",
      "4              104      886-2-2975-1988      2311      886-2-2989-4978   \n",
      "\n",
      "                     EMAIL FIRST_LANGUAGE SECOND_LANGUAGE THIRD_LANGUAGE  \n",
      "0  TSavolainen@grtd123.com             EN            <NA>           <NA>  \n",
      "1         CKim@grtd123.com             EN            <NA>           <NA>  \n",
      "2        JChoi@grtd123.com             EN            <NA>           <NA>  \n",
      "3        KKwao@grtd123.com             EN            <NA>           <NA>  \n",
      "4         CFon@grtd123.com             EN            <NA>           <NA>  \n"
     ]
    }
   ],
   "source": [
    "# Lijst met 5 keer 'EN' voor First Language\n",
    "first_language_list = ['EN'] * 5\n",
    "\n",
    "# Lijst wordt geconverteerd naar een serie\n",
    "first_language_series = pd.Series(first_language_list, name='FIRST_LANGUAGE')\n",
    "\n",
    "# Serie wordt horizontaal getoond\n",
    "contact_details_with_languages = pd.concat([contact_details_head, first_language_series], axis=1)\n",
    "\n",
    "# Second & Third language zijn Not Available\n",
    "contact_details_with_languages['SECOND_LANGUAGE'] = pd.NA\n",
    "contact_details_with_languages['THIRD_LANGUAGE'] = pd.NA\n",
    "\n",
    "print(contact_details_with_languages)\n"
   ]
  },
  {
   "cell_type": "markdown",
   "metadata": {},
   "source": [
    "Maak nu de tweede kolom ('SECOND_LANGUAGE'). Maak daarvoor een dictionary, met daarin...\n",
    "- Als keys: alle indexen uit het resultaat van het vorige codeblok.\n",
    "- Als values: bij de eerste 3 elementen 'FR' (Frankrijk), bij de laatste 2 'DE' (Duitsland).\n",
    "\n",
    "Maak vervolgens ook hier weer een serie van en voeg ook deze weer horizontaal samen met het rsultaat van de vorige opdracht.<br>\n",
    "Vergeet niet een passende naam te geven aan de nieuw ontstane kolom."
   ]
  },
  {
   "cell_type": "code",
   "execution_count": 37,
   "metadata": {},
   "outputs": [
    {
     "name": "stdout",
     "output_type": "stream",
     "text": [
      "  SALES_STAFF_CODE           WORK_PHONE EXTENSION                  FAX  \\\n",
      "0              100  +358(0)17 - 433 127       825  +358(0)17 - 433 129   \n",
      "1              101        82-2-778-6587      1228        82-2-778-6586   \n",
      "2              102        82-2-778-6587      2641        82-2-778-6586   \n",
      "3              103      886-2-2975-1988      1541      886-2-2989-4978   \n",
      "4              104      886-2-2975-1988      2311      886-2-2989-4978   \n",
      "\n",
      "                     EMAIL FIRST_LANGUAGE SECOND_LANGUAGE THIRD_LANGUAGE  \\\n",
      "0  TSavolainen@grtd123.com             EN              FR           <NA>   \n",
      "1         CKim@grtd123.com             EN              FR           <NA>   \n",
      "2        JChoi@grtd123.com             EN              FR           <NA>   \n",
      "3        KKwao@grtd123.com             EN              DE           <NA>   \n",
      "4         CFon@grtd123.com             EN              DE           <NA>   \n",
      "\n",
      "  THIRD_LANGUAGE THIRD_LANGUAGE  \n",
      "0             NL             NL  \n",
      "1             NL             NL  \n",
      "2            JPN            JPN  \n",
      "3            JPN            JPN  \n",
      "4            KOR            KOR  \n"
     ]
    }
   ],
   "source": [
    "# - Als values: bij de eerste 3 elementen 'FR' (Frankrijk), bij de laatste 2 'DE' (Duitsland).\n",
    "second_language_dict = {0: 'FR', 1: 'FR', 2: 'FR', 3: 'DE', 4: 'DE'}\n",
    "\n",
    "# Dictionary naar serie\n",
    "second_language_series = pd.Series(second_language_dict, name='SECOND_LANGUAGE')\n",
    "\n",
    "# Voeg de serie horizontaal samen met het resultaat van de vorige opdracht\n",
    "contact_details_with_languages['SECOND_LANGUAGE'] = second_language_series\n",
    "\n",
    "print(contact_details_with_languages)"
   ]
  },
  {
   "cell_type": "markdown",
   "metadata": {},
   "source": [
    "Maak ten slotte de derde kolom ('THIRD_LANGUAGE') door een dictionary te maken met daarin...\n",
    "- Als key: de naam van de nieuwe kolom. Zie je het verschil qua keys met de vorige opdracht?\n",
    "- Als waarde: een lijst met daarin 'NL', 'NL', 'JPN', 'JPN', 'KOR'.\n",
    "\n",
    "Converteer deze dictionary nu naar een DataFrame en voeg deze horizontaal samen met het resultaat van de vorige opdracht.<br>\n",
    "Waarom hoef je hierna de nieuw ontstane kolom geen passende naam meer te geven?"
   ]
  },
  {
   "cell_type": "code",
   "execution_count": 36,
   "metadata": {},
   "outputs": [
    {
     "name": "stdout",
     "output_type": "stream",
     "text": [
      "  SALES_STAFF_CODE           WORK_PHONE EXTENSION                  FAX  \\\n",
      "0              100  +358(0)17 - 433 127       825  +358(0)17 - 433 129   \n",
      "1              101        82-2-778-6587      1228        82-2-778-6586   \n",
      "2              102        82-2-778-6587      2641        82-2-778-6586   \n",
      "3              103      886-2-2975-1988      1541      886-2-2989-4978   \n",
      "4              104      886-2-2975-1988      2311      886-2-2989-4978   \n",
      "\n",
      "                     EMAIL FIRST_LANGUAGE SECOND_LANGUAGE THIRD_LANGUAGE  \\\n",
      "0  TSavolainen@grtd123.com             EN            <NA>           <NA>   \n",
      "1         CKim@grtd123.com             EN            <NA>           <NA>   \n",
      "2        JChoi@grtd123.com             EN            <NA>           <NA>   \n",
      "3        KKwao@grtd123.com             EN            <NA>           <NA>   \n",
      "4         CFon@grtd123.com             EN            <NA>           <NA>   \n",
      "\n",
      "  THIRD_LANGUAGE THIRD_LANGUAGE  \n",
      "0             NL             NL  \n",
      "1             NL             NL  \n",
      "2            JPN            JPN  \n",
      "3            JPN            JPN  \n",
      "4            KOR            KOR  \n"
     ]
    }
   ],
   "source": [
    "# Dictionairy\n",
    "third_language_dict = {'THIRD_LANGUAGE': ['NL', 'NL', 'JPN', 'JPN', 'KOR']}\n",
    "\n",
    "# Dataframe\n",
    "third_language_df = pd.DataFrame(third_language_dict)\n",
    "\n",
    "# Derde kolom wordt horizontaal toegevoegd\n",
    "contact_details_with_languages = pd.concat([contact_details_with_languages, third_language_df], axis=1)\n",
    "\n",
    "print(contact_details_with_languages)\n"
   ]
  },
  {
   "cell_type": "markdown",
   "metadata": {},
   "source": [
    "## Data toevoegen"
   ]
  },
  {
   "cell_type": "markdown",
   "metadata": {},
   "source": [
    "### Rijen"
   ]
  },
  {
   "cell_type": "markdown",
   "metadata": {},
   "source": [
    "Gebruik de originele databasetabel *sales_staff*.<br>\n",
    "Voeg een extra rij toe met eigen invulling. Zorg ervoor dat de index netjes doorloopt.<br>\n",
    "Hulpvraag: welke waarde geef je nu aan axis?"
   ]
  },
  {
   "cell_type": "code",
   "execution_count": 38,
   "metadata": {},
   "outputs": [
    {
     "name": "stdout",
     "output_type": "stream",
     "text": [
      "DataFrame sales_staff met toegevoegde rij:\n",
      "    SALES_STAFF_CODE FIRST_NAME   LAST_NAME                   POSITION_EN  \\\n",
      "0                100     Tuomas  Savolainen  Level 2 Sales Representative   \n",
      "1                101   Chang-ho         Kim  Level 2 Sales Representative   \n",
      "2                102    Jung-ho        Choi  Level 3 Sales Representative   \n",
      "3                103  Kwei-Ping         Kao  Level 2 Sales Representative   \n",
      "4                104  Chin-Tsai        Fang  Level 3 Sales Representative   \n",
      "..               ...        ...         ...                           ...   \n",
      "98                96     Bayard       Lopes                Branch Manager   \n",
      "99                97     Viviam      Barros  Level 3 Sales Representative   \n",
      "100               98    Eduardo   Guimarães  Level 2 Sales Representative   \n",
      "101               99     Helena    Lindholm  Level 3 Sales Representative   \n",
      "102             S999        NaN         NaN                           NaN   \n",
      "\n",
      "              WORK_PHONE EXTENSION                  FAX  \\\n",
      "0    +358(0)17 - 433 127       825  +358(0)17 - 433 129   \n",
      "1          82-2-778-6587      1228        82-2-778-6586   \n",
      "2          82-2-778-6587      2641        82-2-778-6586   \n",
      "3        886-2-2975-1988      1541      886-2-2989-4978   \n",
      "4        886-2-2975-1988      2311      886-2-2989-4978   \n",
      "..                   ...       ...                  ...   \n",
      "98     +55 (11) 344-4444      3490    +55 (11) 333-2223   \n",
      "99     +55 (11) 344-4444      3364    +55 (11) 333-2223   \n",
      "100    +55 (11) 344-4444      1442    +55 (11) 333-2223   \n",
      "101  +358(0)17 - 433 127       489  +358(0)17 - 433 129   \n",
      "102         123-456-7890       123         987-654-3210   \n",
      "\n",
      "                       EMAIL  DATE_HIRED SALES_BRANCH_CODE TRIAL888  \n",
      "0    TSavolainen@grtd123.com   23-7-2014                31        T  \n",
      "1           CKim@grtd123.com  15-12-2014                32        T  \n",
      "2          JChoi@grtd123.com  27-11-2014                32        T  \n",
      "3          KKwao@grtd123.com   7-10-2014                33        T  \n",
      "4           CFon@grtd123.com    8-5-2012                33        T  \n",
      "..                       ...         ...               ...      ...  \n",
      "98        BLopes@grtd123.com   12-8-2013                30        T  \n",
      "99       VBarros@grtd123.com   10-2-2017                30        T  \n",
      "100   EGuimaraes@grtd123.com   14-2-2015                30        T  \n",
      "101    HLindholm@grtd123.com   17-8-2013                31        T  \n",
      "102     john.doe@example.com         NaN               NaN      NaN  \n",
      "\n",
      "[103 rows x 11 columns]\n"
     ]
    }
   ],
   "source": [
    "import pandas as pd\n",
    "import sqlite3\n",
    "\n",
    "# Nieuwe DB Pad\n",
    "database_path = 'Great_outdoors_data_SQLite/go_sales.sqlite'\n",
    "\n",
    "# Databaseconnectie\n",
    "go_sales_connection = sqlite3.connect(database_path)\n",
    "\n",
    "# Alle gegevens van Sales_STAFF\n",
    "query = \"SELECT * FROM sales_staff\"\n",
    "\n",
    "# Query wordt uitgevoerd en getoond in een Panda Dataframe\n",
    "sales_staff_df = pd.read_sql_query(query, go_sales_connection)\n",
    "\n",
    "# Extra rij wordt toegevoegd\n",
    "new_row_data = {'SALES_STAFF_CODE': 'S999', 'STAFF_NAME': 'John Doe', 'POSITION': 'Sales Representative',\n",
    "                'WORK_PHONE': '123-456-7890', 'EXTENSION': '123', 'FAX': '987-654-3210', 'EMAIL': 'john.doe@example.com'}\n",
    "\n",
    "# Nieuwe rij aan het DataFrame met behulp van loc\n",
    "sales_staff_df.loc[len(sales_staff_df)] = new_row_data\n",
    "\n",
    "print(\"DataFrame sales_staff met toegevoegde rij:\")\n",
    "print(sales_staff_df)\n"
   ]
  },
  {
   "cell_type": "markdown",
   "metadata": {},
   "source": [
    "### Kolommen"
   ]
  },
  {
   "cell_type": "markdown",
   "metadata": {},
   "source": [
    "`Voeg een kolom *FULL_NAME* toe die de waarden van *FIRST_NAME* en *LAST_NAME* achter elkaar zet, gescheiden door een spatie.`"
   ]
  },
  {
   "cell_type": "code",
   "execution_count": 39,
   "metadata": {},
   "outputs": [
    {
     "name": "stdout",
     "output_type": "stream",
     "text": [
      "    SALES_STAFF_CODE FIRST_NAME   LAST_NAME                   POSITION_EN  \\\n",
      "0                100     Tuomas  Savolainen  Level 2 Sales Representative   \n",
      "1                101   Chang-ho         Kim  Level 2 Sales Representative   \n",
      "2                102    Jung-ho        Choi  Level 3 Sales Representative   \n",
      "3                103  Kwei-Ping         Kao  Level 2 Sales Representative   \n",
      "4                104  Chin-Tsai        Fang  Level 3 Sales Representative   \n",
      "..               ...        ...         ...                           ...   \n",
      "98                96     Bayard       Lopes                Branch Manager   \n",
      "99                97     Viviam      Barros  Level 3 Sales Representative   \n",
      "100               98    Eduardo   Guimarães  Level 2 Sales Representative   \n",
      "101               99     Helena    Lindholm  Level 3 Sales Representative   \n",
      "102             S999        NaN         NaN                           NaN   \n",
      "\n",
      "              WORK_PHONE EXTENSION                  FAX  \\\n",
      "0    +358(0)17 - 433 127       825  +358(0)17 - 433 129   \n",
      "1          82-2-778-6587      1228        82-2-778-6586   \n",
      "2          82-2-778-6587      2641        82-2-778-6586   \n",
      "3        886-2-2975-1988      1541      886-2-2989-4978   \n",
      "4        886-2-2975-1988      2311      886-2-2989-4978   \n",
      "..                   ...       ...                  ...   \n",
      "98     +55 (11) 344-4444      3490    +55 (11) 333-2223   \n",
      "99     +55 (11) 344-4444      3364    +55 (11) 333-2223   \n",
      "100    +55 (11) 344-4444      1442    +55 (11) 333-2223   \n",
      "101  +358(0)17 - 433 127       489  +358(0)17 - 433 129   \n",
      "102         123-456-7890       123         987-654-3210   \n",
      "\n",
      "                       EMAIL  DATE_HIRED SALES_BRANCH_CODE TRIAL888  \\\n",
      "0    TSavolainen@grtd123.com   23-7-2014                31        T   \n",
      "1           CKim@grtd123.com  15-12-2014                32        T   \n",
      "2          JChoi@grtd123.com  27-11-2014                32        T   \n",
      "3          KKwao@grtd123.com   7-10-2014                33        T   \n",
      "4           CFon@grtd123.com    8-5-2012                33        T   \n",
      "..                       ...         ...               ...      ...   \n",
      "98        BLopes@grtd123.com   12-8-2013                30        T   \n",
      "99       VBarros@grtd123.com   10-2-2017                30        T   \n",
      "100   EGuimaraes@grtd123.com   14-2-2015                30        T   \n",
      "101    HLindholm@grtd123.com   17-8-2013                31        T   \n",
      "102     john.doe@example.com         NaN               NaN      NaN   \n",
      "\n",
      "             FULL_NAME  \n",
      "0    Tuomas Savolainen  \n",
      "1         Chang-ho Kim  \n",
      "2         Jung-ho Choi  \n",
      "3        Kwei-Ping Kao  \n",
      "4       Chin-Tsai Fang  \n",
      "..                 ...  \n",
      "98        Bayard Lopes  \n",
      "99       Viviam Barros  \n",
      "100  Eduardo Guimarães  \n",
      "101    Helena Lindholm  \n",
      "102                NaN  \n",
      "\n",
      "[103 rows x 12 columns]\n"
     ]
    }
   ],
   "source": [
    "sales_staff_df['FULL_NAME'] = sales_staff_df['FIRST_NAME'] + ' ' + sales_staff_df['LAST_NAME']\n",
    "\n",
    "print(sales_staff_df)\n"
   ]
  },
  {
   "cell_type": "markdown",
   "metadata": {},
   "source": [
    "## Data wijzigen"
   ]
  },
  {
   "cell_type": "markdown",
   "metadata": {},
   "source": [
    "### Datatypen"
   ]
  },
  {
   "cell_type": "markdown",
   "metadata": {},
   "source": [
    "Door het attribuut .dtypes van een DataFrame op te vragen krijg je een serie die per kolom het datatype weergeeft. Doe dit bij de originele databasetabel *sales_staff*"
   ]
  },
  {
   "cell_type": "code",
   "execution_count": 40,
   "metadata": {},
   "outputs": [
    {
     "name": "stdout",
     "output_type": "stream",
     "text": [
      "Datatypes van elke kolom in sales_staff:\n",
      "SALES_STAFF_CODE     object\n",
      "FIRST_NAME           object\n",
      "LAST_NAME            object\n",
      "POSITION_EN          object\n",
      "WORK_PHONE           object\n",
      "EXTENSION            object\n",
      "FAX                  object\n",
      "EMAIL                object\n",
      "DATE_HIRED           object\n",
      "SALES_BRANCH_CODE    object\n",
      "TRIAL888             object\n",
      "dtype: object\n"
     ]
    }
   ],
   "source": [
    "import pandas as pd\n",
    "import sqlite3\n",
    "\n",
    "database_path = 'Great_outdoors_data_SQLite/go_sales.sqlite'\n",
    "\n",
    "go_sales_connection = sqlite3.connect(database_path)\n",
    "\n",
    "# Alle gegevens van sales_Staff\n",
    "query = \"SELECT * FROM sales_staff\"\n",
    "\n",
    "# Resultaten in PD Dataframe\n",
    "sales_staff_df = pd.read_sql_query(query, go_sales_connection)\n",
    "\n",
    "print(\"Datatypes van elke kolom in sales_staff:\")\n",
    "print(sales_staff_df.dtypes)"
   ]
  },
  {
   "cell_type": "markdown",
   "metadata": {},
   "source": [
    "Hier valt op dat elke kolom het datatype 'object' heeft: Python leest dus alles als string. Wiskundige operaties zijn hierdoor niet mogelijk.<br>\n",
    "We kunnen proberen om kolommen met getallen, bijvoorbeeld de 'extension', te converteren naar een int. Zie onderstaande code."
   ]
  },
  {
   "cell_type": "code",
   "execution_count": 3,
   "metadata": {},
   "outputs": [
    {
     "ename": "NameError",
     "evalue": "name 'sales_staff' is not defined",
     "output_type": "error",
     "traceback": [
      "\u001b[1;31m---------------------------------------------------------------------------\u001b[0m",
      "\u001b[1;31mNameError\u001b[0m                                 Traceback (most recent call last)",
      "Cell \u001b[1;32mIn[3], line 1\u001b[0m\n\u001b[1;32m----> 1\u001b[0m sales_staff[\u001b[38;5;124m'\u001b[39m\u001b[38;5;124mEXTENSION\u001b[39m\u001b[38;5;124m'\u001b[39m] \u001b[38;5;241m=\u001b[39m \u001b[43msales_staff\u001b[49m[\u001b[38;5;124m'\u001b[39m\u001b[38;5;124mEXTENSION\u001b[39m\u001b[38;5;124m'\u001b[39m]\u001b[38;5;241m.\u001b[39mastype(\u001b[38;5;28mint\u001b[39m)\n\u001b[0;32m      2\u001b[0m sales_staff\u001b[38;5;241m.\u001b[39mdtypes\n",
      "\u001b[1;31mNameError\u001b[0m: name 'sales_staff' is not defined"
     ]
    }
   ],
   "source": [
    "sales_staff['EXTENSION'] = sales_staff['EXTENSION'].astype(int)\n",
    "sales_staff.dtypes"
   ]
  },
  {
   "cell_type": "markdown",
   "metadata": {},
   "source": [
    "Dit lukt echter niet, omdat er in de kolom 'EXTENSION' lege waarden zitten die niet geconverteerd kunnen worden naar een int.<br>\n",
    "Wél kan je deze naar een float converteren, zie onderstaande code:"
   ]
  },
  {
   "cell_type": "code",
   "execution_count": null,
   "metadata": {},
   "outputs": [],
   "source": [
    "sales_staff['EXTENSION'] = sales_staff['EXTENSION'].astype(float)\n",
    "sales_staff.dtypes"
   ]
  },
  {
   "cell_type": "markdown",
   "metadata": {},
   "source": [
    "Als we in de rij van 'EXTENSION' kijken zien we dat de conversie van het datatype nu is gelukt.<br>\n",
    "Dit is <b>randvoorwaardelijk</b> voor het uitvoeren van wiskundige operaties.<br>"
   ]
  },
  {
   "cell_type": "markdown",
   "metadata": {},
   "source": [
    "### Rijen"
   ]
  },
  {
   "cell_type": "markdown",
   "metadata": {},
   "source": [
    "Zorg er nu voor dat bij alle extensions 1 wordt opgeteld."
   ]
  },
  {
   "cell_type": "code",
   "execution_count": 41,
   "metadata": {},
   "outputs": [
    {
     "name": "stdout",
     "output_type": "stream",
     "text": [
      "    SALES_STAFF_CODE FIRST_NAME   LAST_NAME                   POSITION_EN  \\\n",
      "0                100     Tuomas  Savolainen  Level 2 Sales Representative   \n",
      "1                101   Chang-ho         Kim  Level 2 Sales Representative   \n",
      "2                102    Jung-ho        Choi  Level 3 Sales Representative   \n",
      "3                103  Kwei-Ping         Kao  Level 2 Sales Representative   \n",
      "4                104  Chin-Tsai        Fang  Level 3 Sales Representative   \n",
      "..               ...        ...         ...                           ...   \n",
      "97                95      Tomás    Iglesias  Level 2 Sales Representative   \n",
      "98                96     Bayard       Lopes                Branch Manager   \n",
      "99                97     Viviam      Barros  Level 3 Sales Representative   \n",
      "100               98    Eduardo   Guimarães  Level 2 Sales Representative   \n",
      "101               99     Helena    Lindholm  Level 3 Sales Representative   \n",
      "\n",
      "              WORK_PHONE  EXTENSION                  FAX  \\\n",
      "0    +358(0)17 - 433 127      826.0  +358(0)17 - 433 129   \n",
      "1          82-2-778-6587     1229.0        82-2-778-6586   \n",
      "2          82-2-778-6587     2642.0        82-2-778-6586   \n",
      "3        886-2-2975-1988     1542.0      886-2-2989-4978   \n",
      "4        886-2-2975-1988     2312.0      886-2-2989-4978   \n",
      "..                   ...        ...                  ...   \n",
      "97       +35 94 322 3540      326.0      +35 91 548 1637   \n",
      "98     +55 (11) 344-4444     3491.0    +55 (11) 333-2223   \n",
      "99     +55 (11) 344-4444     3365.0    +55 (11) 333-2223   \n",
      "100    +55 (11) 344-4444     1443.0    +55 (11) 333-2223   \n",
      "101  +358(0)17 - 433 127      490.0  +358(0)17 - 433 129   \n",
      "\n",
      "                       EMAIL  DATE_HIRED SALES_BRANCH_CODE TRIAL888  \n",
      "0    TSavolainen@grtd123.com   23-7-2014                31        T  \n",
      "1           CKim@grtd123.com  15-12-2014                32        T  \n",
      "2          JChoi@grtd123.com  27-11-2014                32        T  \n",
      "3          KKwao@grtd123.com   7-10-2014                33        T  \n",
      "4           CFon@grtd123.com    8-5-2012                33        T  \n",
      "..                       ...         ...               ...      ...  \n",
      "97     TIglesias@grtd123.com   19-2-2014                29        T  \n",
      "98        BLopes@grtd123.com   12-8-2013                30        T  \n",
      "99       VBarros@grtd123.com   10-2-2017                30        T  \n",
      "100   EGuimaraes@grtd123.com   14-2-2015                30        T  \n",
      "101    HLindholm@grtd123.com   17-8-2013                31        T  \n",
      "\n",
      "[102 rows x 11 columns]\n"
     ]
    }
   ],
   "source": [
    "# Query\n",
    "query = \"SELECT * FROM sales_staff\"\n",
    "\n",
    "sales_staff_df = pd.read_sql_query(query, go_sales_connection)\n",
    "\n",
    "# Conversie naar Float\n",
    "sales_staff_df['EXTENSION'] = sales_staff_df['EXTENSION'].astype(float)\n",
    "\n",
    "# Voeg 1 toe aan alle waarden in de 'EXTENSION'-kolom\n",
    "sales_staff_df['EXTENSION'] += 1\n",
    "\n",
    "print(sales_staff_df)"
   ]
  },
  {
   "cell_type": "markdown",
   "metadata": {},
   "source": [
    "Elke 'Branch Manager' wordt nu 'General Manager'. Schrijf code zodat deze wijziging doorgevoerd wordt in het DataFrame."
   ]
  },
  {
   "cell_type": "code",
   "execution_count": 42,
   "metadata": {},
   "outputs": [
    {
     "name": "stdout",
     "output_type": "stream",
     "text": [
      "    SALES_STAFF_CODE FIRST_NAME   LAST_NAME                   POSITION_EN  \\\n",
      "0                100     Tuomas  Savolainen  Level 2 Sales Representative   \n",
      "1                101   Chang-ho         Kim  Level 2 Sales Representative   \n",
      "2                102    Jung-ho        Choi  Level 3 Sales Representative   \n",
      "3                103  Kwei-Ping         Kao  Level 2 Sales Representative   \n",
      "4                104  Chin-Tsai        Fang  Level 3 Sales Representative   \n",
      "..               ...        ...         ...                           ...   \n",
      "97                95      Tomás    Iglesias  Level 2 Sales Representative   \n",
      "98                96     Bayard       Lopes               General Manager   \n",
      "99                97     Viviam      Barros  Level 3 Sales Representative   \n",
      "100               98    Eduardo   Guimarães  Level 2 Sales Representative   \n",
      "101               99     Helena    Lindholm  Level 3 Sales Representative   \n",
      "\n",
      "              WORK_PHONE  EXTENSION                  FAX  \\\n",
      "0    +358(0)17 - 433 127      826.0  +358(0)17 - 433 129   \n",
      "1          82-2-778-6587     1229.0        82-2-778-6586   \n",
      "2          82-2-778-6587     2642.0        82-2-778-6586   \n",
      "3        886-2-2975-1988     1542.0      886-2-2989-4978   \n",
      "4        886-2-2975-1988     2312.0      886-2-2989-4978   \n",
      "..                   ...        ...                  ...   \n",
      "97       +35 94 322 3540      326.0      +35 91 548 1637   \n",
      "98     +55 (11) 344-4444     3491.0    +55 (11) 333-2223   \n",
      "99     +55 (11) 344-4444     3365.0    +55 (11) 333-2223   \n",
      "100    +55 (11) 344-4444     1443.0    +55 (11) 333-2223   \n",
      "101  +358(0)17 - 433 127      490.0  +358(0)17 - 433 129   \n",
      "\n",
      "                       EMAIL  DATE_HIRED SALES_BRANCH_CODE TRIAL888  \n",
      "0    TSavolainen@grtd123.com   23-7-2014                31        T  \n",
      "1           CKim@grtd123.com  15-12-2014                32        T  \n",
      "2          JChoi@grtd123.com  27-11-2014                32        T  \n",
      "3          KKwao@grtd123.com   7-10-2014                33        T  \n",
      "4           CFon@grtd123.com    8-5-2012                33        T  \n",
      "..                       ...         ...               ...      ...  \n",
      "97     TIglesias@grtd123.com   19-2-2014                29        T  \n",
      "98        BLopes@grtd123.com   12-8-2013                30        T  \n",
      "99       VBarros@grtd123.com   10-2-2017                30        T  \n",
      "100   EGuimaraes@grtd123.com   14-2-2015                30        T  \n",
      "101    HLindholm@grtd123.com   17-8-2013                31        T  \n",
      "\n",
      "[102 rows x 11 columns]\n"
     ]
    }
   ],
   "source": [
    "# Wijzig 'Branch Manager' naar 'General Manager'\n",
    "sales_staff_df.loc[sales_staff_df['POSITION_EN'] == 'Branch Manager', 'POSITION_EN'] = 'General Manager'\n",
    "\n",
    "print(sales_staff_df)"
   ]
  },
  {
   "cell_type": "markdown",
   "metadata": {},
   "source": [
    "### Kolommen"
   ]
  },
  {
   "cell_type": "markdown",
   "metadata": {},
   "source": [
    "Verander de kolomnaam 'POSITION_EN' naar 'POSITION'."
   ]
  },
  {
   "cell_type": "code",
   "execution_count": 43,
   "metadata": {},
   "outputs": [
    {
     "name": "stdout",
     "output_type": "stream",
     "text": [
      "    SALES_STAFF_CODE FIRST_NAME   LAST_NAME                      POSITION  \\\n",
      "0                100     Tuomas  Savolainen  Level 2 Sales Representative   \n",
      "1                101   Chang-ho         Kim  Level 2 Sales Representative   \n",
      "2                102    Jung-ho        Choi  Level 3 Sales Representative   \n",
      "3                103  Kwei-Ping         Kao  Level 2 Sales Representative   \n",
      "4                104  Chin-Tsai        Fang  Level 3 Sales Representative   \n",
      "..               ...        ...         ...                           ...   \n",
      "97                95      Tomás    Iglesias  Level 2 Sales Representative   \n",
      "98                96     Bayard       Lopes               General Manager   \n",
      "99                97     Viviam      Barros  Level 3 Sales Representative   \n",
      "100               98    Eduardo   Guimarães  Level 2 Sales Representative   \n",
      "101               99     Helena    Lindholm  Level 3 Sales Representative   \n",
      "\n",
      "              WORK_PHONE  EXTENSION                  FAX  \\\n",
      "0    +358(0)17 - 433 127      826.0  +358(0)17 - 433 129   \n",
      "1          82-2-778-6587     1229.0        82-2-778-6586   \n",
      "2          82-2-778-6587     2642.0        82-2-778-6586   \n",
      "3        886-2-2975-1988     1542.0      886-2-2989-4978   \n",
      "4        886-2-2975-1988     2312.0      886-2-2989-4978   \n",
      "..                   ...        ...                  ...   \n",
      "97       +35 94 322 3540      326.0      +35 91 548 1637   \n",
      "98     +55 (11) 344-4444     3491.0    +55 (11) 333-2223   \n",
      "99     +55 (11) 344-4444     3365.0    +55 (11) 333-2223   \n",
      "100    +55 (11) 344-4444     1443.0    +55 (11) 333-2223   \n",
      "101  +358(0)17 - 433 127      490.0  +358(0)17 - 433 129   \n",
      "\n",
      "                       EMAIL  DATE_HIRED SALES_BRANCH_CODE TRIAL888  \n",
      "0    TSavolainen@grtd123.com   23-7-2014                31        T  \n",
      "1           CKim@grtd123.com  15-12-2014                32        T  \n",
      "2          JChoi@grtd123.com  27-11-2014                32        T  \n",
      "3          KKwao@grtd123.com   7-10-2014                33        T  \n",
      "4           CFon@grtd123.com    8-5-2012                33        T  \n",
      "..                       ...         ...               ...      ...  \n",
      "97     TIglesias@grtd123.com   19-2-2014                29        T  \n",
      "98        BLopes@grtd123.com   12-8-2013                30        T  \n",
      "99       VBarros@grtd123.com   10-2-2017                30        T  \n",
      "100   EGuimaraes@grtd123.com   14-2-2015                30        T  \n",
      "101    HLindholm@grtd123.com   17-8-2013                31        T  \n",
      "\n",
      "[102 rows x 11 columns]\n"
     ]
    }
   ],
   "source": [
    "# Kolomnaam verandering\n",
    "sales_staff_df.rename(columns={'POSITION_EN': 'POSITION'}, inplace=True) # Inplace = directe aanpassing in DataFrame\n",
    "\n",
    "print(sales_staff_df)\n"
   ]
  },
  {
   "cell_type": "markdown",
   "metadata": {},
   "source": [
    "## Data verwijderen"
   ]
  },
  {
   "cell_type": "markdown",
   "metadata": {},
   "source": [
    "### Rijen"
   ]
  },
  {
   "cell_type": "markdown",
   "metadata": {},
   "source": [
    "De medewerkers op indexen 99, 100 en 101 hebben helaas ontslag genomen.<br>\n",
    "Verwijder de bijbehorende rijen uit het DataFrame. Gebruik slechts één keer de .drop()-methode."
   ]
  },
  {
   "cell_type": "code",
   "execution_count": 44,
   "metadata": {},
   "outputs": [
    {
     "name": "stdout",
     "output_type": "stream",
     "text": [
      "   SALES_STAFF_CODE FIRST_NAME   LAST_NAME                      POSITION  \\\n",
      "0               100     Tuomas  Savolainen  Level 2 Sales Representative   \n",
      "1               101   Chang-ho         Kim  Level 2 Sales Representative   \n",
      "2               102    Jung-ho        Choi  Level 3 Sales Representative   \n",
      "3               103  Kwei-Ping         Kao  Level 2 Sales Representative   \n",
      "4               104  Chin-Tsai        Fang  Level 3 Sales Representative   \n",
      "..              ...        ...         ...                           ...   \n",
      "94               92       Jake      Cartel  Level 2 Sales Representative   \n",
      "95               93       John      Sinden  Level 3 Sales Representative   \n",
      "96               94    Yolanda      Torres  Level 3 Sales Representative   \n",
      "97               95      Tomás    Iglesias  Level 2 Sales Representative   \n",
      "98               96     Bayard       Lopes               General Manager   \n",
      "\n",
      "             WORK_PHONE  EXTENSION                  FAX  \\\n",
      "0   +358(0)17 - 433 127      826.0  +358(0)17 - 433 129   \n",
      "1         82-2-778-6587     1229.0        82-2-778-6586   \n",
      "2         82-2-778-6587     2642.0        82-2-778-6586   \n",
      "3       886-2-2975-1988     1542.0      886-2-2989-4978   \n",
      "4       886-2-2975-1988     2312.0      886-2-2989-4978   \n",
      "..                  ...        ...                  ...   \n",
      "94  +(61) 03 2982  4242     1649.0  +(61) 03 2982  4243   \n",
      "95  +(61) 03 2982  4242     1893.0  +(61) 03 2982  4243   \n",
      "96      +35 94 322 3540      126.0      +35 91 548 1637   \n",
      "97      +35 94 322 3540      326.0      +35 91 548 1637   \n",
      "98    +55 (11) 344-4444     3491.0    +55 (11) 333-2223   \n",
      "\n",
      "                      EMAIL  DATE_HIRED SALES_BRANCH_CODE TRIAL888  \n",
      "0   TSavolainen@grtd123.com   23-7-2014                31        T  \n",
      "1          CKim@grtd123.com  15-12-2014                32        T  \n",
      "2         JChoi@grtd123.com  27-11-2014                32        T  \n",
      "3         KKwao@grtd123.com   7-10-2014                33        T  \n",
      "4          CFon@grtd123.com    8-5-2012                33        T  \n",
      "..                      ...         ...               ...      ...  \n",
      "94      JCartel@grtd123.com  15-12-2015                28        T  \n",
      "95      JSinden@grtd123.com  30-11-2015                28        T  \n",
      "96      YTorres@grtd123.com   29-8-2011                29        T  \n",
      "97    TIglesias@grtd123.com   19-2-2014                29        T  \n",
      "98       BLopes@grtd123.com   12-8-2013                30        T  \n",
      "\n",
      "[99 rows x 11 columns]\n"
     ]
    }
   ],
   "source": [
    "# Verwijder rijen 99,100,101\n",
    "sales_staff_df.drop(index=[99, 100, 101], inplace=True)\n",
    "\n",
    "print(sales_staff_df)\n"
   ]
  },
  {
   "cell_type": "markdown",
   "metadata": {},
   "source": [
    "### Kolommen"
   ]
  },
  {
   "cell_type": "markdown",
   "metadata": {},
   "source": [
    "Faxen zijn inmiddels ouderwets: niemand gebruikt zijn/haar faxnummer nog.<br>\n",
    "Verwijder de bijbehorende kolom uit het DataFrame."
   ]
  },
  {
   "cell_type": "code",
   "execution_count": 45,
   "metadata": {},
   "outputs": [
    {
     "name": "stdout",
     "output_type": "stream",
     "text": [
      "   SALES_STAFF_CODE FIRST_NAME   LAST_NAME                      POSITION  \\\n",
      "0               100     Tuomas  Savolainen  Level 2 Sales Representative   \n",
      "1               101   Chang-ho         Kim  Level 2 Sales Representative   \n",
      "2               102    Jung-ho        Choi  Level 3 Sales Representative   \n",
      "3               103  Kwei-Ping         Kao  Level 2 Sales Representative   \n",
      "4               104  Chin-Tsai        Fang  Level 3 Sales Representative   \n",
      "..              ...        ...         ...                           ...   \n",
      "94               92       Jake      Cartel  Level 2 Sales Representative   \n",
      "95               93       John      Sinden  Level 3 Sales Representative   \n",
      "96               94    Yolanda      Torres  Level 3 Sales Representative   \n",
      "97               95      Tomás    Iglesias  Level 2 Sales Representative   \n",
      "98               96     Bayard       Lopes               General Manager   \n",
      "\n",
      "             WORK_PHONE  EXTENSION                    EMAIL  DATE_HIRED  \\\n",
      "0   +358(0)17 - 433 127      826.0  TSavolainen@grtd123.com   23-7-2014   \n",
      "1         82-2-778-6587     1229.0         CKim@grtd123.com  15-12-2014   \n",
      "2         82-2-778-6587     2642.0        JChoi@grtd123.com  27-11-2014   \n",
      "3       886-2-2975-1988     1542.0        KKwao@grtd123.com   7-10-2014   \n",
      "4       886-2-2975-1988     2312.0         CFon@grtd123.com    8-5-2012   \n",
      "..                  ...        ...                      ...         ...   \n",
      "94  +(61) 03 2982  4242     1649.0      JCartel@grtd123.com  15-12-2015   \n",
      "95  +(61) 03 2982  4242     1893.0      JSinden@grtd123.com  30-11-2015   \n",
      "96      +35 94 322 3540      126.0      YTorres@grtd123.com   29-8-2011   \n",
      "97      +35 94 322 3540      326.0    TIglesias@grtd123.com   19-2-2014   \n",
      "98    +55 (11) 344-4444     3491.0       BLopes@grtd123.com   12-8-2013   \n",
      "\n",
      "   SALES_BRANCH_CODE TRIAL888  \n",
      "0                 31        T  \n",
      "1                 32        T  \n",
      "2                 32        T  \n",
      "3                 33        T  \n",
      "4                 33        T  \n",
      "..               ...      ...  \n",
      "94                28        T  \n",
      "95                28        T  \n",
      "96                29        T  \n",
      "97                29        T  \n",
      "98                30        T  \n",
      "\n",
      "[99 rows x 10 columns]\n"
     ]
    }
   ],
   "source": [
    "# Kolomverwijdering\n",
    "sales_staff_df.drop(columns='FAX', inplace=True)\n",
    "\n",
    "print(sales_staff_df)\n"
   ]
  }
 ],
 "metadata": {
  "kernelspec": {
   "display_name": "python-in-deds-P4iSP_yI-py3.11",
   "language": "python",
   "name": "python3"
  },
  "language_info": {
   "codemirror_mode": {
    "name": "ipython",
    "version": 3
   },
   "file_extension": ".py",
   "mimetype": "text/x-python",
   "name": "python",
   "nbconvert_exporter": "python",
   "pygments_lexer": "ipython3",
   "version": "3.12.2"
  }
 },
 "nbformat": 4,
 "nbformat_minor": 2
}
