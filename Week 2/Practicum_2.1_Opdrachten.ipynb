{
 "cells": [
  {
   "cell_type": "markdown",
   "metadata": {},
   "source": [
    "# Practicumopdrachten Week 2.1 (eerste kans)"
   ]
  },
  {
   "cell_type": "markdown",
   "metadata": {},
   "source": [
    "## Maak een virtual environment"
   ]
  },
  {
   "cell_type": "markdown",
   "metadata": {},
   "source": [
    "Zorg dat je met behulp van de handleiding *Bouw en gebruik van virtual environments - Handleiding* een virtual environment hebt gemaakt, dat jou en je duopartner garandeert altijd dezelfde versie van geïmporteerde dependencies te gebruiken.<br>\n",
    "Voeg hier vervolgens met *poetry add pandas* de pandas-dependency aan toe.<br>\n",
    "Als je dit allemaal goed hebt gedaan moet de onderstaande code bij jullie allebei succesvol runnen:"
   ]
  },
  {
   "cell_type": "code",
   "execution_count": 1,
   "metadata": {},
   "outputs": [],
   "source": [
    "import pandas as pd"
   ]
  },
  {
   "cell_type": "markdown",
   "metadata": {},
   "source": [
    "Zorg er daarnaast voor dat je...\n",
    "- Het bestand Waarheidstabel_1.png in hetzelfde mapje als dit notebook hebt staan.\n",
    "- Het bestand Prinstabel.png in hetzelfde mapje als dit notebook hebt staan.\n",
    "- Alle informatie onder het kopje *Basisoperaties* van de cheatsheet *Van Java naar Python - Cheatsheet* bij de hand hebt."
   ]
  },
  {
   "cell_type": "markdown",
   "metadata": {},
   "source": [
    "## 1.1: Output, variabelen en input"
   ]
  },
  {
   "cell_type": "markdown",
   "metadata": {},
   "source": [
    "Geef code waarmee het volgende op het scherm komt te staan:<br>\n",
    "geef me je geld <br>\n",
    "of ik gebruik geweld, <br>\n",
    "toen kwam de controle aangesneld"
   ]
  },
  {
   "cell_type": "code",
   "execution_count": 1,
   "metadata": {},
   "outputs": [
    {
     "name": "stdout",
     "output_type": "stream",
     "text": [
      "geef me je geld\n",
      "of ik gebruik geweld,\n",
      "toen kwam de controle aangesneld\n"
     ]
    }
   ],
   "source": [
    "print(\"geef me je geld\")\n",
    "print(\"of ik gebruik geweld,\")\n",
    "print(\"toen kwam de controle aangesneld\")"
   ]
  },
  {
   "cell_type": "markdown",
   "metadata": {},
   "source": [
    "Declareer 2 variabelen zodat de volgende tekst geprint wordt:<br>\n",
    "Apenhoofd<br>\n",
    "Paardenstaart"
   ]
  },
  {
   "cell_type": "code",
   "execution_count": 9,
   "metadata": {},
   "outputs": [
    {
     "name": "stdout",
     "output_type": "stream",
     "text": [
      "Apenhoofd\n",
      "Paardenstaart\n"
     ]
    }
   ],
   "source": [
    "Dier1 = \"Apenhoofd\"\n",
    "Dier2 = \"Paardenstaart\"\n",
    "print(Dier1 + '\\n' + Dier2)"
   ]
  },
  {
   "cell_type": "markdown",
   "metadata": {},
   "source": [
    "Voeg code toe zodat het programma het volgende doet:<br>\n",
    "1): Op het scherm komt A, B, C, D, ..., F, G te staan<br>\n",
    "2): De gebruiker voert een letter in<br>\n",
    "3): Op het scherm komt te staan:<br>\n",
    "Het is inderdaad:<br>\n",
    "*ingevoerde letter*"
   ]
  },
  {
   "cell_type": "code",
   "execution_count": 10,
   "metadata": {},
   "outputs": [
    {
     "name": "stdout",
     "output_type": "stream",
     "text": [
      "Op het scherm komt te staan: A, B, C, D, E, F, G\n",
      "Het is inderdaad: F\n"
     ]
    }
   ],
   "source": [
    "letters = ['A', 'B', 'C', 'D', 'E', 'F', 'G']\n",
    "print(\"Op het scherm komt te staan:\", ', '.join(letters))\n",
    "\n",
    "ingevoerde_letter = input(\"Voer een letter in: \")\n",
    "\n",
    "print(\"Het is inderdaad:\", ingevoerde_letter)\n"
   ]
  },
  {
   "cell_type": "markdown",
   "metadata": {},
   "source": [
    "## 1.2: Stringconcatenatie en Rekenen"
   ]
  },
  {
   "cell_type": "markdown",
   "metadata": {},
   "source": [
    "Schrijf code dat een inkomen inleest en het volgende uitprint:<br>\n",
    "Uw inkomen (*ingelezen inkomen*) is zeer acceptabel."
   ]
  },
  {
   "cell_type": "code",
   "execution_count": 3,
   "metadata": {},
   "outputs": [
    {
     "name": "stdout",
     "output_type": "stream",
     "text": [
      "Uw inkomen 50.0 is zeer acceptabel.\n"
     ]
    }
   ],
   "source": [
    "# Invoer van het inkomen\n",
    "inkomen = float(input(\"Voer uw inkomen in: \"))\n",
    "\n",
    "# Controleert het inkomen en geef een bericht uit\n",
    "if inkomen >= 0:\n",
    "    print(\"Uw inkomen\", inkomen, \"is zeer acceptabel.\")\n",
    "else:\n",
    "    print(\"Ongeldige invoer voor inkomen.\")\n"
   ]
  },
  {
   "cell_type": "markdown",
   "metadata": {},
   "source": [
    "De oppervlakte van een driehoek is 1/2 * hoogte * basis<br>\n",
    "Schrijf code zodat het programma het volgende doet:<br>\n",
    "1): Op het scherm komt Wat is de basis? te staan<br>\n",
    "2): De gebruiker voert een basis in<br>\n",
    "3): Op het scherm komt Wat is de hoogte? te staan<br>\n",
    "4): De gebruiker voert een hoogte in<br>\n",
    "5): Op het scherm komt: De oppervlakte van de driehoek is *berekende oppervlakte* te staan"
   ]
  },
  {
   "cell_type": "code",
   "execution_count": 4,
   "metadata": {},
   "outputs": [
    {
     "name": "stdout",
     "output_type": "stream",
     "text": [
      "De oppervlakte van de driehoek is 2500.0\n"
     ]
    }
   ],
   "source": [
    "# Invoer (1)\n",
    "basis = float(input(\"Wat is de basis? \"))\n",
    "\n",
    "# Invoer (3)\n",
    "hoogte = float(input(\"Wat is de hoogte? \"))\n",
    "\n",
    "# Berekening van de oppervlakte van de driehoek\n",
    "oppervlakte = 0.5 * basis * hoogte\n",
    "\n",
    "print(\"De oppervlakte van de driehoek is\", oppervlakte)\n"
   ]
  },
  {
   "cell_type": "markdown",
   "metadata": {},
   "source": [
    "## 1.3: if() en booleans"
   ]
  },
  {
   "cell_type": "markdown",
   "metadata": {},
   "source": [
    "Schrijf code dat het volgende doet:<br>\n",
    "1): De gebruiker voert in hoe oud iemand is<br>\n",
    "2): De gebruiker voert in of de ouders meegekomen zijn (input is J of N)<br><br>\n",
    "\n",
    "Als...\n",
    "- Jonger dan 6, wel ouders: op het scherm staat Je mag het zwembad in\n",
    "- Jonger dan 6, geen ouders: op het scherm staat Je mag het niet zwembad in\n",
    "- Leeftijd vanaf 6, geen ouders: op het scherm staat Je mag het zwembad in als je een diploma hebt\n",
    "- Leeftijd vanaf 6, wel ouders: op het scherm staat Waarom neem je nog je ouders mee?"
   ]
  },
  {
   "cell_type": "code",
   "execution_count": 10,
   "metadata": {},
   "outputs": [
    {
     "name": "stdout",
     "output_type": "stream",
     "text": [
      "Waarom neem je nog je ouders mee?\n"
     ]
    }
   ],
   "source": [
    "# Invoer leeftijd\n",
    "leeftijd = int(input(\"Hoe oud ben je? \"))\n",
    "\n",
    "# Invoer ouders (J of N)\n",
    "ouders_meegekomen = input(\"Zijn je ouders meegekomen? (Voer J of N in): \")\n",
    "\n",
    "# Voorwaarden\n",
    "if leeftijd < 6 and ouders_meegekomen == 'J':\n",
    "    print(\"Je mag het zwembad in.\")\n",
    "elif leeftijd < 6 and ouders_meegekomen == 'N':\n",
    "    print(\"Je mag het niet het zwembad in.\")\n",
    "elif leeftijd >= 6 and ouders_meegekomen == 'N':\n",
    "    print(\"Je mag het zwembad in als je een diploma hebt.\")\n",
    "elif leeftijd >= 6 and ouders_meegekomen == 'J':\n",
    "    print(\"Waarom neem je nog je ouders mee?\")\n",
    "else:\n",
    "    print(\"Ongeldige invoer.\")\n"
   ]
  },
  {
   "cell_type": "markdown",
   "metadata": {},
   "source": [
    "Schrijf code zodat de boolean-variabelen een en twee aangemaakt worden en waarmee de juiste waarde in de boolean-variabele uitkomst komt te staan. In de waarheidstabel hieronder staat wat de waarde van uitkomst is bij de verschillende mogelijke combinaties van een en twee.<br><br>\n",
    "<img src=\"Waarheidstabel_1.png\">"
   ]
  },
  {
   "cell_type": "code",
   "execution_count": 13,
   "metadata": {},
   "outputs": [
    {
     "name": "stdout",
     "output_type": "stream",
     "text": [
      "een: True\n",
      "twee: True\n",
      "uitkomst: True\n"
     ]
    }
   ],
   "source": [
    "# Variabelen worden aangemaakt\n",
    "een = True\n",
    "twee = True\n",
    "\n",
    "# Bereken de uitkomst op basis van de waarheidstabel\n",
    "if een and twee:\n",
    "    uitkomst = True\n",
    "elif een and not twee:\n",
    "    uitkomst = False\n",
    "elif not een and twee:\n",
    "    uitkomst = True\n",
    "else:\n",
    "    uitkomst = False\n",
    "\n",
    "# Druk de waarden af\n",
    "print(\"een:\", een)\n",
    "print(\"twee:\", twee)\n",
    "print(\"uitkomst:\", uitkomst)\n"
   ]
  },
  {
   "cell_type": "markdown",
   "metadata": {},
   "source": [
    "## 1.4: Methoden"
   ]
  },
  {
   "cell_type": "markdown",
   "metadata": {},
   "source": [
    "Schrijf een methode wachtwoord die als parameters twee woorden meekrijgt en het volgende controleert:\n",
    "- Als de woorden gelijk zijn, print het programma gelijk.\n",
    "- Als de woorden ongelijk zijn print het programma ongelijk.\n",
    "\n",
    "Vergeet niet dat je de methode niet alleen aan moet maken, maar ook aan moet roepen om output te krijgen."
   ]
  },
  {
   "cell_type": "code",
   "execution_count": 14,
   "metadata": {},
   "outputs": [
    {
     "name": "stdout",
     "output_type": "stream",
     "text": [
      "Gelijk\n"
     ]
    }
   ],
   "source": [
    "def wachtwoord(woord1, woord2):\n",
    "    # Controleer of de woorden gelijk zijn\n",
    "    if woord1 == woord2:\n",
    "        print(\"Gelijk\")\n",
    "    else:\n",
    "        print(\"Ongelijk\")\n",
    "\n",
    "# Voorbeeld van het aanroepen van de methode\n",
    "woord1 = input(\"Voer het eerste woord in: \")\n",
    "woord2 = input(\"Voer het tweede woord in: \")\n",
    "\n",
    "# Roep de methode aan met de ingevoerde woorden\n",
    "wachtwoord(woord1, woord2)\n"
   ]
  },
  {
   "cell_type": "markdown",
   "metadata": {},
   "source": [
    "Schrijf de methode zoekPrins die als parameter een prinses meekrijgt en vervolgens de bijbehorende prins teruggeeft, volgens de volgende tabel:<br><br>\n",
    "<img src=\"Prinstabel.png\"><br>\n",
    "Als de naam van de prinses niet in de tabel staat wordt het volgende door de methode teruggegeven: naamloos.<br>\n",
    "Roep ten slotte de gemaakte methode ook daadwerkelijk aan met een zelfgekozen prinsessennaam."
   ]
  },
  {
   "cell_type": "code",
   "execution_count": 16,
   "metadata": {},
   "outputs": [
    {
     "name": "stdout",
     "output_type": "stream",
     "text": [
      "De prins van Test is naamloos\n"
     ]
    }
   ],
   "source": [
    "def zoekPrins(prinses):\n",
    "    prinsen_tabel = {\n",
    "        \"Aurora\": \"Philip\",\n",
    "        \"Ariel\": \"Eric\",\n",
    "        \"Jasmine\": \"Aladdin\",\n",
    "        \"Pocahontas\": \"John\",\n",
    "        \"Belle\": \"Beast\",\n",
    "        \"Tiana\": \"Naveen\",\n",
    "        \"Mulan\": \"Shang\"\n",
    "    }\n",
    "    \n",
    "    # Zoek de prins in de tabel\n",
    "    prins = prinsen_tabel.get(prinses, \"naamloos\")\n",
    "    \n",
    "    # Geef de gevonden prins terug\n",
    "    return prins\n",
    "\n",
    "# Voorbeeld van het aanroepen van de methode\n",
    "prinses_naam = input(\"Voer de naam van de prinses in: \")\n",
    "gevonden_prins = zoekPrins(prinses_naam)\n",
    "\n",
    "# Toon de gevonden prins\n",
    "print(\"De prins van\", prinses_naam, \"is\", gevonden_prins)\n"
   ]
  },
  {
   "cell_type": "markdown",
   "metadata": {},
   "source": [
    "## 1.5: While"
   ]
  },
  {
   "cell_type": "markdown",
   "metadata": {},
   "source": [
    "Schrijf de inhoud van de methode wachtwoord. Deze heeft geen parameters en laat de gebruiker twee wachtwoorden invoeren, waarna hij bekijkt of deze gelijk zijn. Zolang dat niet het geval is wordt er eerst Fout, probeer het opnieuw! uitgeprint en moet de gebruiker het opnieuw proberen.<br>Als de gebruiker het goed doet, komt er Succes! op het scherm te staan."
   ]
  },
  {
   "cell_type": "code",
   "execution_count": 18,
   "metadata": {},
   "outputs": [
    {
     "name": "stdout",
     "output_type": "stream",
     "text": [
      "Fout, probeer het opnieuw!\n",
      "Fout, probeer het opnieuw!\n",
      "Succes!\n"
     ]
    }
   ],
   "source": [
    "def wachtwoord():\n",
    "    while True:\n",
    "        wachtwoord1 = input(\"Voer het eerste wachtwoord in: \")\n",
    "        wachtwoord2 = input(\"Voer het tweede wachtwoord in: \")\n",
    "\n",
    "        # Controleer of de wachtwoorden gelijk zijn\n",
    "        if wachtwoord1 == wachtwoord2:\n",
    "            print(\"Succes!\")\n",
    "            break  # Stop de while-lus als de wachtwoorden gelijk zijn\n",
    "        else:\n",
    "            print(\"Fout, probeer het opnieuw!\")\n",
    "\n",
    "wachtwoord()\n"
   ]
  },
  {
   "cell_type": "markdown",
   "metadata": {},
   "source": [
    "Schrijf de inhoud van de methode tafels. De methode print alle tafels vanaf 1 (dus inclusief de tafel van 1) tot en met de tafel van het meegekregen getal (dus inclusief de tafel van getal).  Zet een witregel tussen alle tafels in. <br>\n",
    "Let op:\n",
    "- Gebruik een while-loop\n",
    "- Gebruik de reeds geschreven methode tafel om een tafel uit te printen"
   ]
  },
  {
   "cell_type": "code",
   "execution_count": 1,
   "metadata": {},
   "outputs": [
    {
     "name": "stdout",
     "output_type": "stream",
     "text": [
      "Tafel van 1:\n",
      "1 x 1 = 1\n",
      "1 x 2 = 2\n",
      "1 x 3 = 3\n",
      "1 x 4 = 4\n",
      "1 x 5 = 5\n",
      "1 x 6 = 6\n",
      "1 x 7 = 7\n",
      "1 x 8 = 8\n",
      "1 x 9 = 9\n",
      "1 x 10 = 10\n",
      "\n",
      "Tafel van 2:\n",
      "2 x 1 = 2\n",
      "2 x 2 = 4\n",
      "2 x 3 = 6\n",
      "2 x 4 = 8\n",
      "2 x 5 = 10\n",
      "2 x 6 = 12\n",
      "2 x 7 = 14\n",
      "2 x 8 = 16\n",
      "2 x 9 = 18\n",
      "2 x 10 = 20\n",
      "\n",
      "Tafel van 3:\n",
      "3 x 1 = 3\n",
      "3 x 2 = 6\n",
      "3 x 3 = 9\n",
      "3 x 4 = 12\n",
      "3 x 5 = 15\n",
      "3 x 6 = 18\n",
      "3 x 7 = 21\n",
      "3 x 8 = 24\n",
      "3 x 9 = 27\n",
      "3 x 10 = 30\n",
      "\n"
     ]
    }
   ],
   "source": [
    "def tafel(getal):\n",
    "    # Print de tafel van het meegegeven getal\n",
    "    i = 1\n",
    "    while i <= 10:\n",
    "        print(f\"{getal} x {i} = {getal * i}\")\n",
    "        i += 1\n",
    "\n",
    "def tafels(eindgetal):\n",
    "    # Print alle tafels van 1 tot en met het meegegeven getal\n",
    "    tafel_nummer = 1\n",
    "    while tafel_nummer <= eindgetal:\n",
    "        print(f\"Tafel van {tafel_nummer}:\")\n",
    "        tafel(tafel_nummer)\n",
    "        print()  # Whitespace\n",
    "        tafel_nummer += 1\n",
    "\n",
    "eindgetal = int(input(\"Voer het eindgetal in: \"))\n",
    "tafels(eindgetal)\n"
   ]
  },
  {
   "cell_type": "markdown",
   "metadata": {},
   "source": [
    "## For-loop"
   ]
  },
  {
   "cell_type": "markdown",
   "metadata": {},
   "source": [
    "Vervang de while-loop door een werkende for-loop. De uitkomst van het programma mag daarbij niet veranderen."
   ]
  },
  {
   "cell_type": "code",
   "execution_count": 26,
   "metadata": {},
   "outputs": [
    {
     "name": "stdout",
     "output_type": "stream",
     "text": [
      "huidige getal: 0\n",
      "huidige getal: 1\n",
      "huidige getal: 2\n",
      "huidige getal: 3\n",
      "huidige getal: 4\n",
      "huidige getal: 5\n",
      "huidige getal: 6\n",
      "huidige getal: 7\n",
      "huidige getal: 8\n",
      "huidige getal: 9\n",
      "huidige getal: 10\n"
     ]
    }
   ],
   "source": [
    "def loopje():\n",
    "    for aantal in range(11):\n",
    "        print(f\"huidige getal: {aantal}\")\n",
    "\n",
    "loopje()\n"
   ]
  },
  {
   "cell_type": "markdown",
   "metadata": {},
   "source": [
    "Schrijf de methode checkEven die achtereenvolgens 12 getallen inleest en afdrukt hoe vaak het ingevoerde getal even was."
   ]
  },
  {
   "cell_type": "code",
   "execution_count": 27,
   "metadata": {},
   "outputs": [
    {
     "name": "stdout",
     "output_type": "stream",
     "text": [
      "\n",
      "Van de ingevoerde getallen waren er 4 even.\n"
     ]
    }
   ],
   "source": [
    "def checkEven():\n",
    "    even_teller = 0\n",
    "\n",
    "    for i in range(12):\n",
    "        getal = int(input(f\"Voer het {i+1}e getal in: \"))\n",
    "        if getal % 2 == 0:\n",
    "            even_teller += 1\n",
    "\n",
    "    print(f\"\\nVan de ingevoerde getallen waren er {even_teller} even.\")\n",
    "    \n",
    "checkEven()\n"
   ]
  },
  {
   "cell_type": "markdown",
   "metadata": {},
   "source": [
    "## Objectoriëntatie"
   ]
  },
  {
   "cell_type": "markdown",
   "metadata": {},
   "source": [
    "Maak een minisysteem voor een kledingwinkel. Maak verschillende klassen voor verschillende soorten kledingstukken, waarbij sommige klassen geërfd worden van andere klassen.\n",
    "- Maak een klasse Kledingstuk aan, waarin door de constructor een merk, een maat en een prijs geïnitialiseerd worden.\n",
    "- Maak een klasse Broek en een klasse Shirt, beide erven van de klasse Kledingstuk. Voeg aan Broek een broek_type, en aan Shirt een shirt_type toe (d.m.v. constructorgebruik).\n",
    "- Maak een klasse Spijkerbroek die erft van broek en een klasse Poloshirt die erft van shirt. Voeg aan Spijkerbroek een blauwtint toe, en aan Poloshirt een kraagsoort (d.m.v. constructorgebruik).\n",
    "- Implementeer in elke klasse een beschrijf-methode, waarmee alle informatie over het betreffende kledingstuk wordt afgedrukt.\n",
    "- Maak van elke klasse een object aan en roep de beschrijfmethode aan. Controleer nauwkeurig of alles naar behoren werkt."
   ]
  },
  {
   "cell_type": "code",
   "execution_count": 28,
   "metadata": {},
   "outputs": [
    {
     "name": "stdout",
     "output_type": "stream",
     "text": [
      "Merk: Generic, Maat: M, Prijs: 29.99 euro\n",
      "\n",
      "Merk: Levi's, Maat: L, Prijs: 59.99 euro\n",
      "Broek type: Jeans\n",
      "\n",
      "Merk: Nike, Maat: S, Prijs: 24.99 euro\n",
      "Shirt type: T-shirt\n",
      "\n",
      "Merk: Tommy Hilfiger, Maat: XL, Prijs: 79.99 euro\n",
      "Broek type: Slim fit\n",
      "Blauwtint: Dark blue\n",
      "\n",
      "Merk: Ralph Lauren, Maat: M, Prijs: 49.99 euro\n",
      "Shirt type: Polo\n",
      "Kraagsoort: Regular\n"
     ]
    }
   ],
   "source": [
    "class Kledingstuk:\n",
    "    def __init__(self, merk, maat, prijs):\n",
    "        # Initialiseer attributen van het object\n",
    "        self.merk = merk\n",
    "        self.maat = maat\n",
    "        self.prijs = prijs\n",
    "\n",
    "    def beschrijf(self):\n",
    "        # Alle verzamelde informatie wordt uitgeprint\n",
    "        print(f\"Merk: {self.merk}, Maat: {self.maat}, Prijs: {self.prijs} euro\")\n",
    "\n",
    "\n",
    "class Broek(Kledingstuk):\n",
    "    def __init__(self, merk, maat, prijs, broek_type):\n",
    "        # super() roept de __init__-methode van de bovenliggende klasse aan (Kledingstuk)\n",
    "        super().__init__(merk, maat, prijs)\n",
    "        # Voeg het attribuut specifiek voor Broek toe\n",
    "        self.broek_type = broek_type\n",
    "\n",
    "    def beschrijf(self):\n",
    "        # Overschrijf de beschrijf-methode van de bovenliggende klasse en voeg extra informatie toe\n",
    "        super().beschrijf()\n",
    "        print(f\"Broek type: {self.broek_type}\")\n",
    "\n",
    "\n",
    "class Shirt(Kledingstuk):\n",
    "    def __init__(self, merk, maat, prijs, shirt_type):\n",
    "        super().__init__(merk, maat, prijs)\n",
    "        self.shirt_type = shirt_type\n",
    "\n",
    "    def beschrijf(self):\n",
    "        super().beschrijf()\n",
    "        print(f\"Shirt type: {self.shirt_type}\")\n",
    "\n",
    "\n",
    "class Spijkerbroek(Broek):\n",
    "    def __init__(self, merk, maat, prijs, broek_type, blauwtint):\n",
    "        super().__init__(merk, maat, prijs, broek_type)\n",
    "        self.blauwtint = blauwtint\n",
    "\n",
    "    def beschrijf(self):\n",
    "        super().beschrijf()\n",
    "        print(f\"Blauwtint: {self.blauwtint}\")\n",
    "\n",
    "\n",
    "class Poloshirt(Shirt):\n",
    "    def __init__(self, merk, maat, prijs, shirt_type, kraagsoort):\n",
    "        super().__init__(merk, maat, prijs, shirt_type)\n",
    "        self.kraagsoort = kraagsoort\n",
    "\n",
    "    def beschrijf(self):\n",
    "        super().beschrijf()\n",
    "        print(f\"Kraagsoort: {self.kraagsoort}\")\n",
    "\n",
    "\n",
    "# Maak objecten aan\n",
    "kledingstuk1 = Kledingstuk(\"Generic\", \"M\", 29.99)\n",
    "broek1 = Broek(\"Levi's\", \"L\", 59.99, \"Jeans\")\n",
    "shirt1 = Shirt(\"Nike\", \"S\", 24.99, \"T-shirt\")\n",
    "spijkerbroek1 = Spijkerbroek(\"Tommy Hilfiger\", \"XL\", 79.99, \"Slim fit\", \"Dark blue\")\n",
    "poloshirt1 = Poloshirt(\"Ralph Lauren\", \"M\", 49.99, \"Polo\", \"Regular\")\n",
    "\n",
    "# Roep de beschrijf-methode aan voor elk object\n",
    "kledingstuk1.beschrijf()\n",
    "print()\n",
    "broek1.beschrijf()\n",
    "print()\n",
    "shirt1.beschrijf()\n",
    "print()\n",
    "spijkerbroek1.beschrijf()\n",
    "print()\n",
    "poloshirt1.beschrijf()\n"
   ]
  },
  {
   "cell_type": "markdown",
   "metadata": {},
   "source": [
    "Opmerking: in themaweken 2 t/m 8 ga je objectoriëntatie waarschijnlijk veel minder vaak gebruiken dan de andere boven- en ondergenoemde programmeertechnieken.<br>\n",
    "Maar let op: in themaweken 9 en 10 komt objectoriëntatie <b><u>uitvoerig</u></b> aan de orde. Zorg dus dat je deze kennis niet vergeet!"
   ]
  },
  {
   "cell_type": "markdown",
   "metadata": {},
   "source": [
    "## Verzamelingen"
   ]
  },
  {
   "cell_type": "markdown",
   "metadata": {},
   "source": [
    "Kijk nu naar alle info onder het kopje *Verzamelingen* van de cheatsheet *Van Java naar Python - Cheatsheet*."
   ]
  },
  {
   "cell_type": "markdown",
   "metadata": {},
   "source": [
    "Initialiseer een lijst met de naam mijn_lijst met de volgende waarden:<br>\n",
    "Jelle, Marleen, Henk, Fatima, Jelle, Henk"
   ]
  },
  {
   "cell_type": "code",
   "execution_count": 29,
   "metadata": {},
   "outputs": [
    {
     "name": "stdout",
     "output_type": "stream",
     "text": [
      "['Jelle', 'Marleen', 'Henk', 'Fatima', 'Jelle', 'Henk']\n"
     ]
    }
   ],
   "source": [
    "mijn_lijst = [\"Jelle\", \"Marleen\", \"Henk\", \"Fatima\", \"Jelle\", \"Henk\"]\n",
    "\n",
    "print(mijn_lijst)\n"
   ]
  },
  {
   "cell_type": "markdown",
   "metadata": {},
   "source": [
    "Probeer nu de eerste waarde uit te lijst te veranderen in een naam naar keuze. Lukt dat?"
   ]
  },
  {
   "cell_type": "code",
   "execution_count": 30,
   "metadata": {},
   "outputs": [
    {
     "name": "stdout",
     "output_type": "stream",
     "text": [
      "['TestNaam', 'Marleen', 'Henk', 'Fatima', 'Jelle', 'Henk']\n"
     ]
    }
   ],
   "source": [
    "mijn_lijst = [\"Jelle\", \"Marleen\", \"Henk\", \"Fatima\", \"Jelle\", \"Henk\"]\n",
    "\n",
    "# Wijzigingen\n",
    "mijn_lijst[0] = \"TestNaam\"\n",
    "\n",
    "# Toon de bijgewerkte lijst\n",
    "print(mijn_lijst)\n"
   ]
  },
  {
   "cell_type": "markdown",
   "metadata": {},
   "source": [
    "Maak van bovengenoemde lijst nu een tupel, genaamd: mijn_tupel."
   ]
  },
  {
   "cell_type": "code",
   "execution_count": 31,
   "metadata": {},
   "outputs": [
    {
     "name": "stdout",
     "output_type": "stream",
     "text": [
      "('Jelle', 'Marleen', 'Henk', 'Fatima', 'Jelle', 'Henk')\n"
     ]
    }
   ],
   "source": [
    "mijn_lijst = [\"Jelle\", \"Marleen\", \"Henk\", \"Fatima\", \"Jelle\", \"Henk\"]\n",
    "\n",
    "mijn_tupel = tuple(mijn_lijst)\n",
    "\n",
    "print(mijn_tupel)\n"
   ]
  },
  {
   "cell_type": "markdown",
   "metadata": {},
   "source": [
    "Probeer nu de eerste waarde uit te tupel te veranderen in een naam naar keuze. Lukt dat?"
   ]
  },
  {
   "cell_type": "code",
   "execution_count": 32,
   "metadata": {},
   "outputs": [
    {
     "ename": "TypeError",
     "evalue": "'tuple' object does not support item assignment",
     "output_type": "error",
     "traceback": [
      "\u001b[1;31m---------------------------------------------------------------------------\u001b[0m",
      "\u001b[1;31mTypeError\u001b[0m                                 Traceback (most recent call last)",
      "Cell \u001b[1;32mIn[32], line 4\u001b[0m\n\u001b[0;32m      1\u001b[0m mijn_tupel \u001b[38;5;241m=\u001b[39m (\u001b[38;5;124m\"\u001b[39m\u001b[38;5;124mJelle\u001b[39m\u001b[38;5;124m\"\u001b[39m, \u001b[38;5;124m\"\u001b[39m\u001b[38;5;124mMarleen\u001b[39m\u001b[38;5;124m\"\u001b[39m, \u001b[38;5;124m\"\u001b[39m\u001b[38;5;124mHenk\u001b[39m\u001b[38;5;124m\"\u001b[39m, \u001b[38;5;124m\"\u001b[39m\u001b[38;5;124mFatima\u001b[39m\u001b[38;5;124m\"\u001b[39m, \u001b[38;5;124m\"\u001b[39m\u001b[38;5;124mJelle\u001b[39m\u001b[38;5;124m\"\u001b[39m, \u001b[38;5;124m\"\u001b[39m\u001b[38;5;124mHenk\u001b[39m\u001b[38;5;124m\"\u001b[39m)\n\u001b[0;32m      3\u001b[0m \u001b[38;5;66;03m# Probeer de eerste waarde in de tuple te wijzigen (dit levert een fout op)\u001b[39;00m\n\u001b[1;32m----> 4\u001b[0m \u001b[43mmijn_tupel\u001b[49m\u001b[43m[\u001b[49m\u001b[38;5;241;43m0\u001b[39;49m\u001b[43m]\u001b[49m \u001b[38;5;241m=\u001b[39m \u001b[38;5;124m\"\u001b[39m\u001b[38;5;124mNieuweNaam\u001b[39m\u001b[38;5;124m\"\u001b[39m\n",
      "\u001b[1;31mTypeError\u001b[0m: 'tuple' object does not support item assignment"
     ]
    }
   ],
   "source": [
    "mijn_tupel = (\"Jelle\", \"Marleen\", \"Henk\", \"Fatima\", \"Jelle\", \"Henk\")\n",
    "\n",
    "# Probeer de eerste waarde in de tuple te wijzigen (dit levert een fout op)\n",
    "mijn_tupel[0] = \"NieuweNaam\""
   ]
  },
  {
   "cell_type": "markdown",
   "metadata": {},
   "source": [
    "Initialiseer een dictionary met de volgende key-value-combinaties:\n",
    "- naam: \"Jelle\"\n",
    "- leeftijd: 28\n",
    "- beroep: \"Docent\"\n",
    "- hobby: \"Volleybal\""
   ]
  },
  {
   "cell_type": "code",
   "execution_count": 34,
   "metadata": {},
   "outputs": [
    {
     "name": "stdout",
     "output_type": "stream",
     "text": [
      "{'naam': 'Jelle', 'leeftijd': 28, 'beroep': 'Docent', 'hobby': 'Volleybal'}\n"
     ]
    }
   ],
   "source": [
    "dictionary = {\n",
    "    \"naam\": \"Jelle\",\n",
    "    \"leeftijd\": 28,\n",
    "    \"beroep\": \"Docent\",\n",
    "    \"hobby\": \"Volleybal\"\n",
    "}\n",
    "\n",
    "print(dictionary)\n"
   ]
  },
  {
   "cell_type": "markdown",
   "metadata": {},
   "source": [
    "Probeer nu de naam te veranderen naar een naam naar keuze. Lukt dat?"
   ]
  },
  {
   "cell_type": "code",
   "execution_count": 35,
   "metadata": {},
   "outputs": [
    {
     "name": "stdout",
     "output_type": "stream",
     "text": [
      "{'naam': 'NieuweNaam', 'leeftijd': 28, 'beroep': 'Docent', 'hobby': 'Volleybal'}\n"
     ]
    }
   ],
   "source": [
    "dictionary = {\n",
    "    \"naam\": \"Jelle\",\n",
    "    \"leeftijd\": 28,\n",
    "    \"beroep\": \"Docent\",\n",
    "    \"hobby\": \"Volleybal\"\n",
    "}\n",
    "\n",
    "# Naam wijziging\n",
    "dictionary[\"naam\"] = \"NieuweNaam\"\n",
    "\n",
    "print(dictionary)\n"
   ]
  }
 ],
 "metadata": {
  "kernelspec": {
   "display_name": "python-in-deds-P4iSP_yI-py3.11",
   "language": "python",
   "name": "python3"
  },
  "language_info": {
   "codemirror_mode": {
    "name": "ipython",
    "version": 3
   },
   "file_extension": ".py",
   "mimetype": "text/x-python",
   "name": "python",
   "nbconvert_exporter": "python",
   "pygments_lexer": "ipython3",
   "version": "3.12.2"
  }
 },
 "nbformat": 4,
 "nbformat_minor": 2
}
