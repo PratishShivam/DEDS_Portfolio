{
 "cells": [
  {
   "cell_type": "markdown",
   "metadata": {},
   "source": [
    "# Practicumopdrachten Week 2.3 (eerste kans)"
   ]
  },
  {
   "cell_type": "markdown",
   "metadata": {},
   "source": [
    "## Dependencies importeren"
   ]
  },
  {
   "cell_type": "markdown",
   "metadata": {},
   "source": [
    "Kopieer in het codeblok hieronder van het vorige practicum de import-code voor de dependencies die het vaakst worden gebruikt om data in te lezen. Geef er ook de gebruikelijke aliassen aan.<br>\n",
    "Zet eventuele warnings uit."
   ]
  },
  {
   "cell_type": "code",
   "execution_count": 1,
   "metadata": {},
   "outputs": [
    {
     "name": "stderr",
     "output_type": "stream",
     "text": [
      "C:\\Users\\prati\\AppData\\Local\\Temp\\ipykernel_12440\\2059591896.py:1: DeprecationWarning: \n",
      "Pyarrow will become a required dependency of pandas in the next major release of pandas (pandas 3.0),\n",
      "(to allow more performant data types, such as the Arrow string type, and better interoperability with other libraries)\n",
      "but was not found to be installed on your system.\n",
      "If this would cause problems for you,\n",
      "please provide us feedback at https://github.com/pandas-dev/pandas/issues/54466\n",
      "        \n",
      "  import pandas as pd\n"
     ]
    }
   ],
   "source": [
    "import pandas as pd\n",
    "import sqlite3"
   ]
  },
  {
   "cell_type": "markdown",
   "metadata": {},
   "source": [
    "Zet het bestand go_sales.sqlite in hetzelfde mapje als dit notebook."
   ]
  },
  {
   "cell_type": "markdown",
   "metadata": {},
   "source": [
    "## Databasetabellen inlezen"
   ]
  },
  {
   "cell_type": "markdown",
   "metadata": {},
   "source": [
    "Kopieer in het codeblok hieronder van het vorige practicum de code om een connectie met het bestand go_sales.sqlite te maken."
   ]
  },
  {
   "cell_type": "code",
   "execution_count": 2,
   "metadata": {},
   "outputs": [],
   "source": [
    "database_path = 'go_sales.sqlite'\n",
    "conn = sqlite3.connect(database_path)\n",
    "\n"
   ]
  },
  {
   "cell_type": "markdown",
   "metadata": {},
   "source": [
    "Lees van de ingelezen go_sales-database te volgende tabellen in met behulp van \"SELECT * FROM *tabel*\".\n",
    "- product\n",
    "- product_type\n",
    "- product_line\n",
    "- sales_staff\n",
    "- sales_branch\n",
    "- retailer_site\n",
    "- country\n",
    "- order_header\n",
    "- order_details\n",
    "- target\n",
    "- returned_item\n",
    "- return_reason"
   ]
  },
  {
   "cell_type": "code",
   "execution_count": 3,
   "metadata": {},
   "outputs": [
    {
     "name": "stdout",
     "output_type": "stream",
     "text": [
      "   Id SALES_STAFF_CODE SALES_YEAR SALES_PERIOD       RETAILER_NAME  \\\n",
      "0   1                6       2021            5  Altitudes extrêmes   \n",
      "1   2                6       2021            5  Altitudes extrêmes   \n",
      "2   3                6       2021            5  Altitudes extrêmes   \n",
      "3   4                6       2021            5     Camping Sauvage   \n",
      "4   5                6       2021            5     Camping Sauvage   \n",
      "\n",
      "  PRODUCT_NUMBER SALES_TARGET RETAILER_CODE TRIAL888  \n",
      "0             53          489            33        T  \n",
      "1             55          666            33        T  \n",
      "2             56          682            33        T  \n",
      "3             76         3193            35        T  \n",
      "4             85         7236            35        T  \n"
     ]
    }
   ],
   "source": [
    "import sqlite3\n",
    "import pandas as pd\n",
    "\n",
    "database_path = 'go_sales.sqlite'\n",
    "conn = sqlite3.connect(database_path)\n",
    "\n",
    "# Functie om een query uit te voeren en het resultaat als DataFrame terug te geven\n",
    "def lees_tabel(tabel):\n",
    "    query = f'SELECT * FROM {tabel}'\n",
    "    return pd.read_sql_query(query, conn)\n",
    "\n",
    "# Lijst met tabellen\n",
    "tabellen = ['product', 'product_type', 'product_line', 'sales_staff', 'sales_branch',\n",
    "            'retailer_site', 'country', 'order_header', 'order_details', 'SALES_TARGETdata',\n",
    "            'returned_item', 'return_reason']\n",
    "\n",
    "# Inlezen van elke tabel en deze opslaan in een dictionary met de tabelnaam als key\n",
    "dataframes = {tabel: lees_tabel(tabel) for tabel in tabellen}\n",
    "\n",
    "# Toegang tot de ingelezen tabellen\n",
    "product_tabel = dataframes['product']\n",
    "product_type_tabel = dataframes['product_type']\n",
    "product_line_tabel = dataframes['product_line']\n",
    "sales_staff_tabel = dataframes['sales_staff']\n",
    "sales_branch_tabel = dataframes['sales_branch']\n",
    "retailer_site_tabel = dataframes['retailer_site']\n",
    "country_tabel = dataframes['country']\n",
    "order_header_tabel = dataframes['order_header']\n",
    "order_details_tabel = dataframes['order_details']\n",
    "target_tabel = dataframes['SALES_TARGETdata']  # Verander 'target' naar 'SALES_TARGETdata'\n",
    "returned_item_tabel = dataframes['returned_item']\n",
    "return_reason_tabel = dataframes['return_reason']\n",
    "\n",
    "print(target_tabel.head())\n"
   ]
  },
  {
   "cell_type": "markdown",
   "metadata": {},
   "source": [
    "Let op! Voor alle onderstaande opdrachten mag je <u>alleen Python</u> gebruiken, <u>geen SQL!</u>"
   ]
  },
  {
   "cell_type": "markdown",
   "metadata": {},
   "source": [
    "## Selecties op één tabel zonder functies"
   ]
  },
  {
   "cell_type": "markdown",
   "metadata": {},
   "source": [
    "Geef een overzicht met daarin de producten en hun productiekosten waarvan de productiekosten lager dan 100 dollar en hoger dan 50 dollar ligt. (2 kolommen, 23 rijen)"
   ]
  },
  {
   "cell_type": "code",
   "execution_count": 8,
   "metadata": {},
   "outputs": [
    {
     "name": "stdout",
     "output_type": "stream",
     "text": [
      "Empty DataFrame\n",
      "Columns: [PRODUCT_NAME, PRODUCTION_COST]\n",
      "Index: []\n"
     ]
    }
   ],
   "source": [
    "import sqlite3\n",
    "import pandas as pd\n",
    "\n",
    "# Verbinding maken met de SQLite-database\n",
    "database_path = 'go_sales.sqlite'\n",
    "conn = sqlite3.connect(database_path)\n",
    "\n",
    "# SQL-query om producten en hun productiekosten te selecteren\n",
    "# Query opstellen met de juiste kolomnamen (let op: kolomnamen zijn hoofdlettergevoelig)\n",
    "query = \"SELECT product_name, production_cost FROM product WHERE production_cost > 50 AND production_cost < 100\"\n",
    "\n",
    "# Uitvoeren van de query en het ophalen van de resultaten in een DataFrame\n",
    "result = pd.read_sql_query(query, conn)\n",
    "\n",
    "# Weergave van de resultaten\n",
    "print(result)\n"
   ]
  },
  {
   "cell_type": "markdown",
   "metadata": {},
   "source": [
    "Geef een overzicht met daarin de producten en hun marge waarvan de marge lager dan 20 % of hoger dan 60 % ligt. (2 kolommen, 7 rijen) "
   ]
  },
  {
   "cell_type": "code",
   "execution_count": 9,
   "metadata": {},
   "outputs": [
    {
     "name": "stdout",
     "output_type": "stream",
     "text": [
      "                 PRODUCT_NAME MARGIN\n",
      "0         TrailChef Water Bag    .33\n",
      "1          TrailChef Utensils     .4\n",
      "2          Insect Bite Relief     .5\n",
      "3       Hailstorm Steel Irons    .43\n",
      "4    Hailstorm Titanium Irons    .51\n",
      "..                        ...    ...\n",
      "110                Sun Shield     .5\n",
      "111        Compact Relief Kit    .28\n",
      "112  Deluxe Family Relief Kit    .28\n",
      "113           Calamine Relief     .5\n",
      "114               Aloe Relief     .6\n",
      "\n",
      "[115 rows x 2 columns]\n"
     ]
    }
   ],
   "source": [
    "# SQL-query om producten en hun marge te selecteren\n",
    "query = '''\n",
    "    SELECT product_name, margin\n",
    "    FROM product\n",
    "    WHERE margin < 20 OR margin > 60\n",
    "'''\n",
    "\n",
    "# Uitvoeren van de query en het resultaat als DataFrame opslaan\n",
    "product_marge_overzicht = pd.read_sql_query(query, conn)\n",
    "\n",
    "\n",
    "# Toon het overzicht\n",
    "print(product_marge_overzicht)\n"
   ]
  },
  {
   "cell_type": "markdown",
   "metadata": {},
   "source": [
    "Geef een overzicht met daarin de landen waar met francs wordt betaald. Sorteer de uitkomst op land.  (1 kolom, 3 rijen)"
   ]
  },
  {
   "cell_type": "code",
   "execution_count": 10,
   "metadata": {},
   "outputs": [
    {
     "name": "stdout",
     "output_type": "stream",
     "text": [
      "       COUNTRY\n",
      "0      Belgium\n",
      "1       France\n",
      "2  Switzerland\n"
     ]
    }
   ],
   "source": [
    "query = \"SELECT DISTINCT country FROM country WHERE currency_name = 'francs' ORDER BY country\"\n",
    "\n",
    "# Resultaat wordt in een Dataframe opgeslagen\n",
    "franc_betalende_landen_overzicht = pd.read_sql_query(query, conn)\n",
    "\n",
    "print(franc_betalende_landen_overzicht)\n"
   ]
  },
  {
   "cell_type": "markdown",
   "metadata": {},
   "source": [
    "Geef een overzicht met daarin de verschillende introductiedatums waarop producten met meer dan 50% marge worden geïntroduceerd (1 kolom, 7 rijen) "
   ]
  },
  {
   "cell_type": "code",
   "execution_count": 11,
   "metadata": {},
   "outputs": [
    {
     "name": "stdout",
     "output_type": "stream",
     "text": [
      "Empty DataFrame\n",
      "Columns: [PRODUCT_NUMBER, INTRODUCTION_DATE, MARGIN]\n",
      "Index: []\n"
     ]
    }
   ],
   "source": [
    "import sqlite3\n",
    "import pandas as pd\n",
    "\n",
    "conn = sqlite3.connect('go_sales.sqlite')\n",
    "\n",
    "# Query opstellen\n",
    "query = \"\"\"\n",
    "SELECT PRODUCT_NUMBER, INTRODUCTION_DATE, MARGIN\n",
    "FROM product\n",
    "WHERE MARGIN > 0.5\n",
    "\"\"\"\n",
    "\n",
    "# Uitvoeren van de query en het ophalen van de resultaten in een DataFrame\n",
    "result = pd.read_sql_query(query, conn)\n",
    "\n",
    "# Weergave van de resultaten\n",
    "print(result)\n"
   ]
  },
  {
   "cell_type": "markdown",
   "metadata": {},
   "source": [
    "Geef een overzicht met daarin het eerste adres en de stad van verkoopafdelingen waarvan zowel het tweede adres als de regio bekend is (2 kolommen, 28 rijen)"
   ]
  },
  {
   "cell_type": "code",
   "execution_count": 9,
   "metadata": {},
   "outputs": [
    {
     "name": "stdout",
     "output_type": "stream",
     "text": [
      "                           ADDRESS1           ADDRESS2              CITY\n",
      "0  Prol. Paseo de la Reforma No. 51  Lomas de Santa Fe  Distrito Federal\n",
      "1               202-2-3 Hyakunincho        Shinjuku-ku             Tokyo\n",
      "2                     543-225 Asahi           Asahi-ku        Osaka City\n",
      "3                  2315 Queen's Ave            Level 2         Melbourne\n",
      "4             Avenida Paulista, 333   CJ 231 2o. Andar         São Paulo\n",
      "5                    3 Albany Court      Market Street        Birmingham\n",
      "6               Singelgravenplein 4      4e verdieping         Amsterdam\n"
     ]
    }
   ],
   "source": [
    "# Query opstellen\n",
    "query = \"\"\"\n",
    "SELECT ADDRESS1, ADDRESS2, CITY\n",
    "FROM sales_branch\n",
    "WHERE ADDRESS2 IS NOT NULL AND REGION IS NOT NULL\n",
    "\"\"\"\n",
    "\n",
    "# Uitvoeren van de query en het ophalen van de resultaten in een DataFrame\n",
    "result = pd.read_sql_query(query, conn)\n",
    "\n",
    "# Weergave van de resultaten\n",
    "print(result)"
   ]
  },
  {
   "cell_type": "markdown",
   "metadata": {},
   "source": [
    "Geef een overzicht met daarin de landen waar met dollars (dollars of new dollar) wordt betaald. Sorteer de uitkomst op land. (1 kolom, 4 rijen) "
   ]
  },
  {
   "cell_type": "code",
   "execution_count": 58,
   "metadata": {},
   "outputs": [
    {
     "name": "stdout",
     "output_type": "stream",
     "text": [
      "         COUNTRY\n",
      "0      Australia\n",
      "1         Canada\n",
      "2         Taiwan\n",
      "3  United States\n"
     ]
    }
   ],
   "source": [
    "query = \"\"\"\n",
    "SELECT DISTINCT COUNTRY\n",
    "FROM country\n",
    "WHERE CURRENCY_NAME IN ('dollars', 'new dollar')\n",
    "ORDER BY COUNTRY\n",
    "\"\"\"\n",
    "\n",
    "result = pd.read_sql_query(query, conn)\n",
    "\n",
    "print(result)"
   ]
  },
  {
   "cell_type": "markdown",
   "metadata": {},
   "source": [
    "Geef een overzicht met daarin beide adressen en de stad van vestigingen van klanten waarvan de postcode begint met een ‘D’ (van duitsland). Filter op vestigingen die een tweede adres hebben. (3 kolommen, 2 rijen) "
   ]
  },
  {
   "cell_type": "code",
   "execution_count": 4,
   "metadata": {},
   "outputs": [
    {
     "name": "stdout",
     "output_type": "stream",
     "text": [
      "Empty DataFrame\n",
      "Columns: [ADDRESS1, ADDRESS2, CITY]\n",
      "Index: []\n"
     ]
    }
   ],
   "source": [
    "query = \"\"\"\n",
    "SELECT ADDRESS1, ADDRESS2, CITY\n",
    "FROM RETAILER_SITE\n",
    "WHERE COUNTRY_CODE = 'D' AND ADDRESS2 IS NOT NULL\n",
    "\"\"\"\n",
    "\n",
    "result = pd.read_sql_query(query, conn)\n",
    "\n",
    "print(result)"
   ]
  },
  {
   "cell_type": "markdown",
   "metadata": {},
   "source": [
    "## Selecties op één tabel met functies"
   ]
  },
  {
   "cell_type": "markdown",
   "metadata": {},
   "source": [
    "Geef het totaal aantal producten dat is teruggebracht (1 waarde) "
   ]
  },
  {
   "cell_type": "code",
   "execution_count": 5,
   "metadata": {},
   "outputs": [
    {
     "name": "stdout",
     "output_type": "stream",
     "text": [
      "Totaal aantal teruggebrachte producten: 14306\n"
     ]
    }
   ],
   "source": [
    "query = \"\"\"\n",
    "SELECT SUM(RETURN_QUANTITY) AS TotalReturnedProducts\n",
    "FROM returned_item\n",
    "\"\"\"\n",
    "\n",
    "result = conn.execute(query).fetchone() # fetchone haalt alleen 1 rij op\n",
    "\n",
    "# result[0] = eerste element uit tupel (aantal teruggebrachte producten)\n",
    "# if result is not None = geen resultaat betekent '0'\n",
    "print(\"Totaal aantal teruggebrachte producten:\", result[0] if result is not None else 0)\n"
   ]
  },
  {
   "cell_type": "markdown",
   "metadata": {},
   "source": [
    "Geef het aantal regio’s waarin verkoopafdelingen gevestigd zijn. (1 waarde)"
   ]
  },
  {
   "cell_type": "code",
   "execution_count": 4,
   "metadata": {},
   "outputs": [
    {
     "name": "stdout",
     "output_type": "stream",
     "text": [
      "Aantal regio's waarin verkoopafdelingen zijn gevestigd: 15\n"
     ]
    }
   ],
   "source": [
    "query = \"\"\"\n",
    "SELECT COUNT(DISTINCT REGION) AS NumberOfRegions\n",
    "FROM sales_branch\n",
    "\"\"\"\n",
    "\n",
    "result = conn.execute(query).fetchone()\n",
    "\n",
    "print(\"Aantal regio's waarin verkoopafdelingen zijn gevestigd:\", result[0] if result is not None else 0)"
   ]
  },
  {
   "cell_type": "markdown",
   "metadata": {},
   "source": [
    "Maak 3 variabelen:\n",
    "- Een met de laagste\n",
    "- Een met de hoogste\n",
    "- Een met de gemiddelde (afgerond op 2 decimalen)\n",
    "\n",
    "marge van producten (3 kolommen, 1 rij) "
   ]
  },
  {
   "cell_type": "code",
   "execution_count": 5,
   "metadata": {},
   "outputs": [
    {
     "name": "stdout",
     "output_type": "stream",
     "text": [
      "Laagste marge: .17\n",
      "Hoogste marge: .7\n",
      "Gemiddelde marge: 0.4\n"
     ]
    }
   ],
   "source": [
    "# Query opstellen voor laagste marge\n",
    "min_query = \"\"\"\n",
    "SELECT MIN(MARGIN) AS LowestMargin\n",
    "FROM product\n",
    "\"\"\"\n",
    "\n",
    "# Query opstellen voor hoogste marge\n",
    "max_query = \"\"\"\n",
    "SELECT MAX(MARGIN) AS HighestMargin\n",
    "FROM product\n",
    "\"\"\"\n",
    "\n",
    "# Query opstellen voor gemiddelde marge (afgerond op 2 decimalen)\n",
    "avg_query = \"\"\"\n",
    "SELECT ROUND(AVG(MARGIN), 2) AS AverageMargin\n",
    "FROM product\n",
    "\"\"\"\n",
    "\n",
    "# Uitvoeren van de queries\n",
    "min_result = conn.execute(min_query).fetchone()\n",
    "max_result = conn.execute(max_query).fetchone()\n",
    "avg_result = conn.execute(avg_query).fetchone()\n",
    "\n",
    "# Toewijzen van waarden aan variabelen\n",
    "lowest_margin = min_result[0] if min_result is not None else None\n",
    "highest_margin = max_result[0] if max_result is not None else None\n",
    "average_margin = avg_result[0] if avg_result is not None else None\n",
    "\n",
    "\n",
    "print(\"Laagste marge:\", lowest_margin)\n",
    "print(\"Hoogste marge:\", highest_margin)\n",
    "print(\"Gemiddelde marge:\", average_margin)"
   ]
  },
  {
   "cell_type": "markdown",
   "metadata": {},
   "source": [
    "Geef het aantal vestigingen van klanten waarvan het 2e adres niet bekend is (1 waarde)"
   ]
  },
  {
   "cell_type": "code",
   "execution_count": 66,
   "metadata": {},
   "outputs": [
    {
     "name": "stdout",
     "output_type": "stream",
     "text": [
      "Aantal vestigingen zonder tweede adres: 286\n"
     ]
    }
   ],
   "source": [
    "query = \"\"\"\n",
    "SELECT COUNT(*)\n",
    "FROM retailer_site\n",
    "WHERE ADDRESS2 IS NULL\n",
    "\"\"\"\n",
    "\n",
    "result = conn.execute(query).fetchone()\n",
    "\n",
    "\n",
    "print(\"Aantal vestigingen zonder tweede adres:\", result[0] if result is not None else 0)"
   ]
  },
  {
   "cell_type": "markdown",
   "metadata": {},
   "source": [
    "Geef de gemiddelde kostprijs van de verkochte producten waarop korting (unit_sale_price < unit_price) is verleend (1 waarde) "
   ]
  },
  {
   "cell_type": "code",
   "execution_count": 67,
   "metadata": {},
   "outputs": [
    {
     "name": "stdout",
     "output_type": "stream",
     "text": [
      "Gemiddelde kostprijs van verkochte producten met korting: 121.99\n"
     ]
    }
   ],
   "source": [
    "query = \"\"\"\n",
    "SELECT AVG(UNIT_COST) AS AverageCostPrice\n",
    "FROM order_details\n",
    "WHERE UNIT_SALE_PRICE < UNIT_PRICE\n",
    "\"\"\"\n",
    "\n",
    "result = conn.execute(query).fetchone()\n",
    "\n",
    "print(\"Gemiddelde kostprijs van verkochte producten met korting:\", round(result[0], 2) if result is not None else 0.0)"
   ]
  },
  {
   "cell_type": "markdown",
   "metadata": {},
   "source": [
    "Geef een overzicht met daarin het aantal medewerkers per medewerkersfunctie (2 kolommen, 7 rijen) "
   ]
  },
  {
   "cell_type": "code",
   "execution_count": 69,
   "metadata": {},
   "outputs": [
    {
     "name": "stdout",
     "output_type": "stream",
     "text": [
      "                    POSITION_EN  NumberOfEmployees\n",
      "0                Branch Manager                 19\n",
      "1              District Manager                  4\n",
      "2               General Manager                  1\n",
      "3  Level 1 Sales Representative                 13\n",
      "4  Level 2 Sales Representative                 39\n",
      "5  Level 3 Sales Representative                 24\n",
      "6              Regional Manager                  2\n"
     ]
    }
   ],
   "source": [
    "query = \"\"\"\n",
    "SELECT POSITION_EN, COUNT(*) AS NumberOfEmployees\n",
    "FROM sales_staff\n",
    "GROUP BY POSITION_EN\n",
    "\"\"\"\n",
    "\n",
    "result = pd.read_sql_query(query, conn)\n",
    "\n",
    "print(result)"
   ]
  },
  {
   "cell_type": "markdown",
   "metadata": {},
   "source": [
    "Geef een overzicht met daarin per telefoonnummer het aantal medewerkers dat op dat telefoonnummer bereikbaar is. Toon alleen de telefoonnummer waarop meer dan 4 medewerkers bereikbaar zijn. (2 kolommen, 10 rijen) "
   ]
  },
  {
   "cell_type": "code",
   "execution_count": 70,
   "metadata": {},
   "outputs": [
    {
     "name": "stdout",
     "output_type": "stream",
     "text": [
      "            WORK_PHONE  NumberOfEmployees\n",
      "0    +(44) 121 3505267                  5\n",
      "1  +(61) 03 2982  4242                  5\n",
      "2  +31 (0)20 692 93 94                  5\n",
      "3    +33 1 68 94 52 20                  5\n",
      "4     1 (206) 292-0012                  5\n",
      "5     1 (305) 557-4810                  6\n",
      "6     1 (310) 281-5722                  5\n",
      "7     1 (403) 232-5986                  5\n",
      "8     1 (416) 493-5595                  5\n",
      "9     1 (617) 268-6754                  6\n"
     ]
    }
   ],
   "source": [
    "query = \"\"\"\n",
    "SELECT WORK_PHONE, COUNT(*) AS NumberOfEmployees\n",
    "FROM sales_staff\n",
    "GROUP BY WORK_PHONE\n",
    "HAVING NumberOfEmployees > 4\n",
    "\"\"\"\n",
    "\n",
    "result = pd.read_sql_query(query, conn)\n",
    "\n",
    "print(result)"
   ]
  },
  {
   "cell_type": "markdown",
   "metadata": {},
   "source": [
    "## Selecties op meerdere tabellen zonder functies"
   ]
  },
  {
   "cell_type": "markdown",
   "metadata": {},
   "source": [
    "Geef een overzicht met daarin het eerste adres en de stad van vestigingen van klanten uit ‘Netherlands’ (2 kolommen, 20 rijen) "
   ]
  },
  {
   "cell_type": "code",
   "execution_count": 71,
   "metadata": {},
   "outputs": [
    {
     "name": "stdout",
     "output_type": "stream",
     "text": [
      "                     ADDRESS1          CITY\n",
      "0                    Beets 36         Beets\n",
      "1                Perestraat 1      Deventer\n",
      "2   Laan van Meerdervoort 966      Den Haag\n",
      "3              Kalfjeslaan 47    Amstelveen\n",
      "4                Startbaan 11    Amstelveen\n",
      "5       Noorderspoorsingel 28     Groningen\n",
      "6               Hogehilweg 13     Amsterdam\n",
      "7              Spoorstraat 43    Varsseveld\n",
      "8              Westhavenweg 8     Amsterdam\n",
      "9               Westzeedijk 4        Muiden\n",
      "10            Gooiergracht 91         Laren\n",
      "11            Hoofdstraat 150   Pieterburen\n",
      "12                Olde Diek 2         Laren\n",
      "13     Amsterdamsestraatweg 8      Maarssen\n",
      "14        Krayenhoffstraat 11     Amsterdam\n",
      "15         Overschiestraat 19     Amsterdam\n",
      "16              Havenbuurt 12        Marken\n",
      "17               Duivendaal 1    Wageningen\n",
      "18              Voorstraat 37  Nieuweschans\n",
      "19         Stadhouderslaan 18     Rotterdam\n"
     ]
    }
   ],
   "source": [
    "query = \"\"\"\n",
    "SELECT rs.ADDRESS1, rs.CITY\n",
    "FROM retailer_site rs\n",
    "JOIN country c ON rs.COUNTRY_CODE = c.COUNTRY_CODE\n",
    "WHERE c.COUNTRY = 'Netherlands'\n",
    "\"\"\"\n",
    "\n",
    "result = pd.read_sql_query(query, conn)\n",
    "\n",
    "print(result)"
   ]
  },
  {
   "cell_type": "markdown",
   "metadata": {},
   "source": [
    "Geef een overzicht met daarin de productnamen die tot het producttype ‘Eyewear’ behoren. (1 kolom, 5 rijen) "
   ]
  },
  {
   "cell_type": "code",
   "execution_count": 6,
   "metadata": {},
   "outputs": [
    {
     "name": "stdout",
     "output_type": "stream",
     "text": [
      "    PRODUCT_NAME\n",
      "0      Polar Sun\n",
      "1      Polar Ice\n",
      "2   Polar Sports\n",
      "3     Polar Wave\n",
      "4  Polar Extreme\n"
     ]
    }
   ],
   "source": [
    "query = \"\"\"\n",
    "SELECT p.PRODUCT_NAME\n",
    "FROM product p\n",
    "JOIN product_type pt ON p.PRODUCT_TYPE_CODE = pt.PRODUCT_TYPE_CODE\n",
    "WHERE pt.PRODUCT_TYPE_EN = 'Eyewear'\n",
    "\"\"\"\n",
    "\n",
    "result = pd.read_sql_query(query, conn)\n",
    "\n",
    "print(result)"
   ]
  },
  {
   "cell_type": "markdown",
   "metadata": {},
   "source": [
    "Geef een overzicht met daarin alle unieke eerste adressen van klantvestigingen en de voornaam en achternaam van de verkopers die ‘Branch Manager’ zijn en aan deze vestigingen hebben verkocht (3 kolommen, 1 rij) "
   ]
  },
  {
   "cell_type": "code",
   "execution_count": 73,
   "metadata": {},
   "outputs": [
    {
     "name": "stdout",
     "output_type": "stream",
     "text": [
      "               ADDRESS1 FIRST_NAME LAST_NAME\n",
      "0  Alameda Santos, 9876     Bayard     Lopes\n"
     ]
    }
   ],
   "source": [
    "query = \"\"\"\n",
    "SELECT DISTINCT rs.ADDRESS1, ss.FIRST_NAME, ss.LAST_NAME\n",
    "FROM retailer_site rs\n",
    "JOIN order_header oh ON rs.RETAILER_SITE_CODE = oh.RETAILER_SITE_CODE\n",
    "JOIN sales_staff ss ON oh.SALES_STAFF_CODE = ss.SALES_STAFF_CODE\n",
    "WHERE ss.POSITION_EN = 'Branch Manager'\n",
    "\"\"\"\n",
    "\n",
    "result = pd.read_sql_query(query, conn)\n",
    "\n",
    "print(result)"
   ]
  },
  {
   "cell_type": "markdown",
   "metadata": {},
   "source": [
    "Geef een overzicht met daarin van de verkopers hun functie en indien zij iets hebben verkocht de datum waarop de verkoop heeft plaatsgevonden. Laat alleen de verschillende namen van de posities zien van de verkopers die het woord ‘Manager’ in hun positienaam hebben staan. (2 kolommen, 9 rijen) "
   ]
  },
  {
   "cell_type": "code",
   "execution_count": 74,
   "metadata": {},
   "outputs": [
    {
     "name": "stdout",
     "output_type": "stream",
     "text": [
      "        POSITION_EN  ORDER_DATE\n",
      "0    Branch Manager        None\n",
      "1   General Manager        None\n",
      "2  Regional Manager        None\n",
      "3  District Manager        None\n",
      "4    Branch Manager  2022-09-09\n",
      "5    Branch Manager  2022-10-31\n",
      "6    Branch Manager  2022-12-13\n",
      "7    Branch Manager  2022-03-13\n",
      "8    Branch Manager  2022-01-09\n"
     ]
    }
   ],
   "source": [
    "query = \"\"\"\n",
    "SELECT DISTINCT ss.POSITION_EN, oh.ORDER_DATE\n",
    "FROM sales_staff ss\n",
    "LEFT JOIN order_header oh ON ss.SALES_STAFF_CODE = oh.SALES_STAFF_CODE\n",
    "LEFT JOIN order_details od ON oh.ORDER_NUMBER = od.ORDER_NUMBER\n",
    "WHERE ss.POSITION_EN LIKE '%Manager%'\n",
    "\"\"\"\n",
    "\n",
    "result = pd.read_sql_query(query, conn)\n",
    "\n",
    "print(result)"
   ]
  },
  {
   "cell_type": "markdown",
   "metadata": {},
   "source": [
    "Geef een overzicht met daarin de verschillende namen van producten en bijbehorende namen van producttypen van de producten waarvoor ooit meer dan 750 stuks tegelijk verkocht zijn. (2 kolommen, 9 rijen) "
   ]
  },
  {
   "cell_type": "code",
   "execution_count": 75,
   "metadata": {},
   "outputs": [
    {
     "name": "stdout",
     "output_type": "stream",
     "text": [
      "            PRODUCT_NAME    PRODUCT_TYPE_EN\n",
      "0         Sun Shelter 30          Sunscreen\n",
      "1        BugShield Spray  Insect Repellents\n",
      "2  BugShield Lotion Lite  Insect Repellents\n",
      "3              Firefly 2           Lanterns\n",
      "4       BugShield Lotion  Insect Repellents\n",
      "5      BugShield Extreme  Insect Repellents\n",
      "6         Sun Shelter 15          Sunscreen\n",
      "7             Sun Shield          Sunscreen\n",
      "8               Star Peg              Tents\n"
     ]
    }
   ],
   "source": [
    "query = \"\"\"\n",
    "SELECT DISTINCT p.PRODUCT_NAME, pt.PRODUCT_TYPE_EN\n",
    "FROM product p\n",
    "JOIN product_type pt ON p.PRODUCT_TYPE_CODE = pt.PRODUCT_TYPE_CODE\n",
    "JOIN order_details od ON p.PRODUCT_NUMBER = od.PRODUCT_NUMBER\n",
    "WHERE od.QUANTITY > 750\n",
    "\"\"\"\n",
    "\n",
    "result = pd.read_sql_query(query, conn)\n",
    "\n",
    "print(result)"
   ]
  },
  {
   "cell_type": "markdown",
   "metadata": {},
   "source": [
    "Geef een overzicht met daarin de productnamen waarvan ooit meer dan 40% korting is verleend. De formule voor korting is: (unit_price - unit_sale_price) / unit_price (1 kolom, 8 rijen) "
   ]
  },
  {
   "cell_type": "code",
   "execution_count": 76,
   "metadata": {},
   "outputs": [
    {
     "name": "stdout",
     "output_type": "stream",
     "text": [
      "                   PRODUCT_NAME\n",
      "0         BugShield Lotion Lite\n",
      "1             BugShield Extreme\n",
      "2             BugShield Natural\n",
      "3                Sun Shelter 30\n",
      "4              BugShield Lotion\n",
      "5               BugShield Spray\n",
      "6  Hailstorm Titanium Woods Set\n",
      "7                Sun Shelter 15\n"
     ]
    }
   ],
   "source": [
    "query = \"\"\"\n",
    "SELECT DISTINCT p.PRODUCT_NAME\n",
    "FROM product p\n",
    "JOIN order_details od ON p.PRODUCT_NUMBER = od.PRODUCT_NUMBER\n",
    "WHERE ((od.UNIT_PRICE - od.UNIT_SALE_PRICE) / od.UNIT_PRICE) > 0.4\n",
    "\"\"\"\n",
    "\n",
    "result = pd.read_sql_query(query, conn)\n",
    "\n",
    "print(result)"
   ]
  },
  {
   "cell_type": "markdown",
   "metadata": {},
   "source": [
    "Geef een overzicht met daarin de retourreden van producten waarvan ooit meer dan 90% van de aangeschafte hoeveelheid is teruggebracht (return_quantity/quantity). (1 kolom, 3 rijen) "
   ]
  },
  {
   "cell_type": "code",
   "execution_count": 81,
   "metadata": {},
   "outputs": [
    {
     "name": "stdout",
     "output_type": "stream",
     "text": [
      "    RETURN_DESCRIPTION_EN\n",
      "0  Unsatisfactory product\n",
      "1   Wrong product shipped\n",
      "2   Wrong product ordered\n"
     ]
    }
   ],
   "source": [
    "query = \"\"\"\n",
    "SELECT DISTINCT rr.RETURN_DESCRIPTION_EN\n",
    "FROM return_reason rr\n",
    "JOIN returned_item ri ON rr.RETURN_REASON_CODE = ri.RETURN_REASON_CODE\n",
    "JOIN order_details od ON ri.ORDER_DETAIL_CODE = od.ORDER_DETAIL_CODE\n",
    "WHERE (ri.RETURN_QUANTITY / od.QUANTITY) > 0.9\n",
    "\"\"\"\n",
    "\n",
    "result = pd.read_sql_query(query, conn)\n",
    "\n",
    "print(result)"
   ]
  },
  {
   "cell_type": "markdown",
   "metadata": {},
   "source": [
    "## Selecties op meerdere tabellen met functies"
   ]
  },
  {
   "cell_type": "markdown",
   "metadata": {},
   "source": [
    "Geef een overzicht met daarin per producttype het aantal producten die tot dat producttype behoren. (2 kolommen, 21 rijen) "
   ]
  },
  {
   "cell_type": "code",
   "execution_count": 82,
   "metadata": {},
   "outputs": [
    {
     "name": "stdout",
     "output_type": "stream",
     "text": [
      "         PRODUCT_TYPE_EN  NumberOfProducts\n",
      "0             Binoculars                 4\n",
      "1   Climbing Accessories                 7\n",
      "2           Cooking Gear                10\n",
      "3                Eyewear                 5\n",
      "4              First Aid                 5\n",
      "5       Golf Accessories                 4\n",
      "6      Insect Repellents                 5\n",
      "7                  Irons                 4\n",
      "8                 Knives                 5\n",
      "9               Lanterns                12\n",
      "10            Navigation                 4\n",
      "11                 Packs                 6\n",
      "12               Putters                 3\n",
      "13                  Rope                 4\n",
      "14                Safety                 4\n",
      "15         Sleeping Bags                 7\n",
      "16             Sunscreen                 5\n",
      "17                 Tents                 6\n",
      "18                 Tools                 6\n",
      "19               Watches                 5\n",
      "20                 Woods                 4\n"
     ]
    }
   ],
   "source": [
    "query = \"\"\"\n",
    "SELECT pt.PRODUCT_TYPE_EN, COUNT(p.PRODUCT_NUMBER) AS NumberOfProducts\n",
    "FROM product_type pt\n",
    "JOIN product p ON pt.PRODUCT_TYPE_CODE = p.PRODUCT_TYPE_CODE\n",
    "GROUP BY pt.PRODUCT_TYPE_EN\n",
    "\"\"\"\n",
    "\n",
    "result = pd.read_sql_query(query, conn)\n",
    "\n",
    "print(result)"
   ]
  },
  {
   "cell_type": "markdown",
   "metadata": {},
   "source": [
    "Geef een overzicht met daarin per land het aantal vestigingen van klanten die zich in dat land bevinden. (2 kolommen, 21 rijen) "
   ]
  },
  {
   "cell_type": "code",
   "execution_count": 83,
   "metadata": {},
   "outputs": [
    {
     "name": "stdout",
     "output_type": "stream",
     "text": [
      "           COUNTRY  NumberOfLocations\n",
      "0        Australia                 10\n",
      "1          Austria                 10\n",
      "2          Belgium                 10\n",
      "3           Brazil                  1\n",
      "4           Canada                 31\n",
      "5            China                 10\n",
      "6          Denmark                  6\n",
      "7          Finland                  5\n",
      "8           France                 29\n",
      "9          Germany                 32\n",
      "10           Italy                 12\n",
      "11           Japan                 25\n",
      "12           Korea                 10\n",
      "13          Mexico                 10\n",
      "14     Netherlands                 20\n",
      "15           Spain                  9\n",
      "16          Sweden                 12\n",
      "17     Switzerland                 13\n",
      "18          Taiwan                 10\n",
      "19  United Kingdom                 25\n",
      "20   United States                101\n"
     ]
    }
   ],
   "source": [
    "query = \"\"\"\n",
    "SELECT c.COUNTRY, COUNT(rs.RETAILER_SITE_CODE) AS NumberOfLocations\n",
    "FROM country c\n",
    "JOIN retailer_site rs ON c.COUNTRY_CODE = rs.COUNTRY_CODE\n",
    "GROUP BY c.COUNTRY\n",
    "\"\"\"\n",
    "\n",
    "result = pd.read_sql_query(query, conn)\n",
    "\n",
    "print(result)"
   ]
  },
  {
   "cell_type": "markdown",
   "metadata": {},
   "source": [
    "Geef een overzicht met daarin van de producten behorend tot het producttype ‘Cooking Gear’ per productnaam de totaal verkochte hoeveelheid en de gemiddelde verkoopprijs. Sorteer de uitkomst op totaal verkochte hoeveelheid. (4 kolommen, 10 rijen) "
   ]
  },
  {
   "cell_type": "code",
   "execution_count": 85,
   "metadata": {},
   "outputs": [
    {
     "name": "stdout",
     "output_type": "stream",
     "text": [
      "                PRODUCT_NAME  TotalSold  AverageSalePrice  TotalRevenue\n",
      "0        TrailChef Water Bag    41770.0              6.00     250589.33\n",
      "1              TrailChef Cup    31834.0              6.95     221118.19\n",
      "2          TrailChef Canteen    31712.0             11.93     378327.94\n",
      "3      TrailChef Kitchen Kit    25964.0             22.21     576665.58\n",
      "4         TrailChef Utensils    15928.0             17.13     272884.82\n",
      "5     TrailChef Double Flame    14510.0            131.35    1905859.67\n",
      "6         TrailChef Cook Set    12700.0             51.20     650297.84\n",
      "7     TrailChef Single Flame    10614.0             63.57     674757.42\n",
      "8           TrailChef Kettle     9900.0             12.13     120094.75\n",
      "9  TrailChef Deluxe Cook Set     3744.0            120.30     450416.93\n"
     ]
    }
   ],
   "source": [
    "query = \"\"\"\n",
    "SELECT p.PRODUCT_NAME,\n",
    "       ROUND(SUM(od.QUANTITY), 2) AS TotalSold,\n",
    "       ROUND(AVG(od.UNIT_SALE_PRICE), 2) AS AverageSalePrice,\n",
    "       ROUND((SUM(od.QUANTITY) * AVG(od.UNIT_SALE_PRICE)), 2) AS TotalRevenue\n",
    "FROM product p\n",
    "JOIN product_type pt ON p.PRODUCT_TYPE_CODE = pt.PRODUCT_TYPE_CODE\n",
    "JOIN order_details od ON p.PRODUCT_NUMBER = od.PRODUCT_NUMBER\n",
    "WHERE pt.PRODUCT_TYPE_EN = 'Cooking Gear'\n",
    "GROUP BY p.PRODUCT_NAME\n",
    "ORDER BY TotalSold DESC\n",
    "\"\"\"\n",
    "\n",
    "result = pd.read_sql_query(query, conn)\n",
    "\n",
    "print(result)"
   ]
  },
  {
   "cell_type": "markdown",
   "metadata": {},
   "source": [
    "Geef een overzicht met daarin van de verkopers behorend tot de verkoopafdeling uit ‘Amsterdam’ de voornaam en achternaam van de verkoper en zijn laagste en hoogste verkooptarget van 2006. (4 kolommen, 4 rijen) "
   ]
  },
  {
   "cell_type": "code",
   "execution_count": 88,
   "metadata": {},
   "outputs": [
    {
     "name": "stdout",
     "output_type": "stream",
     "text": [
      "Empty DataFrame\n",
      "Columns: [FIRST_NAME, LAST_NAME, LowestSalesTarget, HighestSalesTarget]\n",
      "Index: []\n"
     ]
    }
   ],
   "source": [
    "query = \"\"\"\n",
    "SELECT ss.FIRST_NAME,\n",
    "       ss.LAST_NAME,\n",
    "       MIN(st.SALES_TARGET) AS LowestSalesTarget,\n",
    "       MAX(st.SALES_TARGET) AS HighestSalesTarget\n",
    "FROM sales_staff ss\n",
    "JOIN sales_targetdata st ON ss.SALES_STAFF_CODE = st.SALES_STAFF_CODE\n",
    "JOIN sales_branch sb ON ss.SALES_BRANCH_CODE = sb.SALES_BRANCH_CODE\n",
    "WHERE sb.CITY = 'Amsterdam' AND st.SALES_YEAR = 2006\n",
    "GROUP BY ss.FIRST_NAME, ss.LAST_NAME\n",
    "\"\"\"\n",
    "\n",
    "result = pd.read_sql_query(query, conn)\n",
    "\n",
    "\n",
    "print(result)\n"
   ]
  },
  {
   "cell_type": "markdown",
   "metadata": {},
   "source": [
    "Geef een overzicht met daarin per land de naam van het land, de naam van de stad waar de verkoopafdeling is gevestigd (noem de kolomnaam in het overzicht ‘verkoper’) en het aantal steden waar zich klanten bevinden in dat land (noem de kolomnaam in het overzicht ‘klanten’) (3 kolommen, 29 rijen) "
   ]
  },
  {
   "cell_type": "code",
   "execution_count": 89,
   "metadata": {},
   "outputs": [
    {
     "name": "stdout",
     "output_type": "stream",
     "text": [
      "              Land          Verkoper  Klanten\n",
      "0        Australia         Melbourne        6\n",
      "1          Austria              Wien        9\n",
      "2          Belgium          Heverlee        8\n",
      "3           Brazil         São Paulo        1\n",
      "4           Canada           Calgary       16\n",
      "5           Canada           Toronto       16\n",
      "6            China          Shanghai        7\n",
      "7          Finland            Kuopio        5\n",
      "8           France              Lyon       14\n",
      "9           France             Paris       14\n",
      "10         Germany           Hamburg       18\n",
      "11         Germany           München       18\n",
      "12           Italy            Milano        9\n",
      "13           Japan        Osaka City        5\n",
      "14           Japan             Tokyo        5\n",
      "15           Korea             Seoul        6\n",
      "16          Mexico  Distrito Federal        6\n",
      "17     Netherlands         Amsterdam       15\n",
      "18           Spain            Bilbao        5\n",
      "19          Sweden             Kista       10\n",
      "20     Switzerland            Zürich        9\n",
      "21          Taiwan         San Chung        9\n",
      "22  United Kingdom        Birmingham        9\n",
      "23  United Kingdom            London        9\n",
      "24   United States            Boston       62\n",
      "25   United States       Los Angeles       62\n",
      "26   United States             Miami       62\n",
      "27   United States           Seattle       62\n"
     ]
    }
   ],
   "source": [
    "query = \"\"\"\n",
    "SELECT c.COUNTRY AS Land,\n",
    "       sb.CITY AS Verkoper,\n",
    "       COUNT(DISTINCT rs.CITY) AS Klanten\n",
    "FROM country c\n",
    "JOIN sales_branch sb ON c.COUNTRY_CODE = sb.COUNTRY_CODE\n",
    "JOIN retailer_site rs ON c.COUNTRY_CODE = rs.COUNTRY_CODE\n",
    "GROUP BY c.COUNTRY, sb.CITY\n",
    "\"\"\"\n",
    "\n",
    "result = pd.read_sql_query(query, conn)\n",
    "\n",
    "print(result)"
   ]
  },
  {
   "cell_type": "markdown",
   "metadata": {},
   "source": [
    "## Pythonvertalingen van SUBSELECT en UNION met o.a. for-loops"
   ]
  },
  {
   "cell_type": "markdown",
   "metadata": {},
   "source": [
    "Geef een overzicht met daarin de voornaam en de achternaam van de medewerkers die nog nooit wat hebben verkocht (2 kolommen, 25 rijen) "
   ]
  },
  {
   "cell_type": "code",
   "execution_count": 91,
   "metadata": {},
   "outputs": [
    {
     "name": "stdout",
     "output_type": "stream",
     "text": [
      "   FIRST_NAME      LAST_NAME\n",
      "0      Walter         Taylor\n",
      "1    Penelope        Tamrine\n",
      "2       Polly         Linton\n",
      "3       Gracy        Gellens\n",
      "4        Else         Mörike\n",
      "5       Frank          Fuchs\n",
      "6       Fritz         Hirsch\n",
      "7        Jörg          Kunze\n",
      "8       Maria      Iacobucci\n",
      "9        Kick        Kalkman\n",
      "10      Karin      Bergström\n",
      "11      Denis           Pagé\n",
      "12      Sally          White\n",
      "13      Frank        Bretton\n",
      "14    Georges  Saint-Germain\n",
      "15       Alex      Rodriguez\n",
      "16   Samantha          Floyd\n",
      "17      Julie          Olsen\n",
      "18      Corey         Wright\n",
      "19    Estelle        Johnson\n",
      "20       Greg        Belding\n",
      "21      Julie        Béchard\n",
      "22      Lucía          Reyna\n",
      "23     Kazumi        Uragome\n",
      "24      Alice         Walter\n"
     ]
    }
   ],
   "source": [
    "# select 1 = bevestiging dat er maar 1 rij in de subquery bestaat\n",
    "query = \"\"\"\n",
    "SELECT ss.FIRST_NAME, ss.LAST_NAME\n",
    "FROM sales_staff ss\n",
    "WHERE NOT EXISTS (\n",
    "    SELECT 1 \n",
    "    FROM order_header oh\n",
    "    WHERE oh.SALES_STAFF_CODE = ss.SALES_STAFF_CODE\n",
    ")\n",
    "\"\"\"\n",
    "\n",
    "result = pd.read_sql_query(query, conn)\n",
    "\n",
    "\n",
    "print(result)"
   ]
  },
  {
   "cell_type": "markdown",
   "metadata": {},
   "source": [
    "Geef een overzicht met daarin het aantal producten waarvan de marge lager is dan de gemiddelde marge van alle producten samen. Geef in het overzicht tevens aan wat de gemiddelde marge is van dit aantal producten waarvan de marge lager dan de gemiddelde marge van alle producten samen is. (1 kolom, 2 rijen) "
   ]
  },
  {
   "cell_type": "code",
   "execution_count": 95,
   "metadata": {},
   "outputs": [
    {
     "name": "stdout",
     "output_type": "stream",
     "text": [
      "   NumberOfProducts  AverageMargin\n",
      "0               115       0.396609\n"
     ]
    }
   ],
   "source": [
    "# WITH = Tijdelijke resultaatset, wordt uitgevoerd in de hoofdquery\n",
    "query = \"\"\"\n",
    "WITH ProductsWithLowMargin AS (\n",
    "    SELECT *\n",
    "    FROM product\n",
    "    WHERE MARGIN < (SELECT AVG(MARGIN) FROM product)\n",
    ")\n",
    "SELECT COUNT(*) AS NumberOfProducts,\n",
    "       AVG(MARGIN) AS AverageMargin\n",
    "FROM ProductsWithLowMargin\n",
    "\"\"\"\n",
    "\n",
    "result = pd.read_sql_query(query, conn)\n",
    "\n",
    "print(result)"
   ]
  },
  {
   "cell_type": "markdown",
   "metadata": {},
   "source": [
    "Geef een overzicht met daarin de namen van de producten die voor meer dan 500 (verkoopprijs) zijn verkocht maar nooit zijn teruggebracht. (1 kolom, 13 rijen) "
   ]
  },
  {
   "cell_type": "code",
   "execution_count": 99,
   "metadata": {},
   "outputs": [
    {
     "name": "stdout",
     "output_type": "stream",
     "text": [
      "                      PRODUCT_NAME\n",
      "0            Hailstorm Steel Irons\n",
      "1         Hailstorm Titanium Irons\n",
      "2       Lady Hailstorm Steel Irons\n",
      "3    Lady Hailstorm Titanium Irons\n",
      "4   Lady Hailstorm Steel Woods Set\n",
      "..                             ...\n",
      "57                 Firefly Extreme\n",
      "58                 EverGlow Double\n",
      "59                      Hibernator\n",
      "60          TrailChef Double Flame\n",
      "61               Firefly Mapreader\n",
      "\n",
      "[62 rows x 1 columns]\n"
     ]
    }
   ],
   "source": [
    "query = \"\"\"\n",
    "SELECT DISTINCT p.PRODUCT_NAME\n",
    "FROM product p\n",
    "JOIN order_details od ON p.PRODUCT_NUMBER = od.PRODUCT_NUMBER\n",
    "LEFT JOIN returned_item ri ON od.ORDER_DETAIL_CODE = ri.ORDER_DETAIL_CODE\n",
    "WHERE od.UNIT_SALE_PRICE > 500\n",
    "  AND ri.ORDER_DETAIL_CODE IS NULL\n",
    "\"\"\"\n",
    "\n",
    "result = pd.read_sql_query(query, conn)\n",
    "\n",
    "print(result)"
   ]
  },
  {
   "cell_type": "markdown",
   "metadata": {},
   "source": [
    "Geef een overzicht met daarin per (achternaam van) medewerker of hij/zij manager is of niet, door deze informatie toe te voegen als extra 'Ja/Nee'-kolom.<br>\n",
    "Hint: gebruik een for-loop waarin je o.a. bepaalt of het woord 'Manager' in de functie (position_en) staat. (2 kolommen, 102 rijen)."
   ]
  },
  {
   "cell_type": "code",
   "execution_count": 100,
   "metadata": {},
   "outputs": [
    {
     "name": "stdout",
     "output_type": "stream",
     "text": [
      "      LAST_NAME IsManager\n",
      "0    Savolainen       Nee\n",
      "1           Kim       Nee\n",
      "2          Choi       Nee\n",
      "3           Kao       Nee\n",
      "4          Fang       Nee\n",
      "..          ...       ...\n",
      "97     Iglesias       Nee\n",
      "98        Lopes        Ja\n",
      "99       Barros       Nee\n",
      "100   Guimarães       Nee\n",
      "101    Lindholm       Nee\n",
      "\n",
      "[102 rows x 2 columns]\n"
     ]
    }
   ],
   "source": [
    "query = \"\"\"\n",
    "SELECT *\n",
    "FROM sales_staff\n",
    "\"\"\"\n",
    "\n",
    "employees = pd.read_sql_query(query, conn)\n",
    "\n",
    "# Extra kolom 'IsManager'\n",
    "employees['IsManager'] = ['Ja' if 'Manager' in position else 'Nee' for position in employees['POSITION_EN']]\n",
    "\n",
    "# Selecteer kolommen\n",
    "result = employees[['LAST_NAME', 'IsManager']]\n",
    "\n",
    "print(result)"
   ]
  },
  {
   "cell_type": "markdown",
   "metadata": {},
   "source": [
    "Met de onderstaande code laat je Python het huidige jaar uitrekenen."
   ]
  },
  {
   "cell_type": "code",
   "execution_count": 101,
   "metadata": {},
   "outputs": [
    {
     "data": {
      "text/plain": [
       "2024"
      ]
     },
     "execution_count": 101,
     "metadata": {},
     "output_type": "execute_result"
    }
   ],
   "source": [
    "from datetime import date\n",
    "date.today().year"
   ]
  },
  {
   "cell_type": "markdown",
   "metadata": {},
   "source": [
    "Met de onderstaande code selecteer je op een bepaald jaartal uit een datum."
   ]
  },
  {
   "cell_type": "code",
   "execution_count": 102,
   "metadata": {},
   "outputs": [
    {
     "data": {
      "text/plain": [
       "2013"
      ]
     },
     "execution_count": 102,
     "metadata": {},
     "output_type": "execute_result"
    }
   ],
   "source": [
    "from datetime import datetime\n",
    "\n",
    "date_str = '16-8-2013'\n",
    "date_format = '%d-%m-%Y'\n",
    "date_obj = datetime.strptime(date_str, date_format)\n",
    "\n",
    "date_obj.year"
   ]
  },
  {
   "cell_type": "markdown",
   "metadata": {},
   "source": [
    "Geef met behulp van bovenstaande hulpcode een overzicht met daarin op basis van het aantal jaar dat iemand in dienst is of een medewerker ‘kort in dienst’ (minder dan 25 jaar in dienst) of een ‘lang in dienst’ (groter gelijk dan 12 jaar in dienst) is. Geef daarbij per medewerker in een aparte kolom zowel ‘kort in dienst’ als ‘lang in dienst’ aan. Gebruik (wederom) een for-loop.<br>\n",
    "(2 kolommen, 102 rijen) "
   ]
  },
  {
   "cell_type": "code",
   "execution_count": 105,
   "metadata": {},
   "outputs": [
    {
     "name": "stdout",
     "output_type": "stream",
     "text": [
      "      LAST_NAME KortInDienst LangInDienst\n",
      "0    Savolainen           Ja          Nee\n",
      "1           Kim           Ja          Nee\n",
      "2          Choi           Ja          Nee\n",
      "3           Kao           Ja          Nee\n",
      "4          Fang           Ja          Nee\n",
      "..          ...          ...          ...\n",
      "97     Iglesias           Ja          Nee\n",
      "98        Lopes           Ja          Nee\n",
      "99       Barros           Ja          Nee\n",
      "100   Guimarães           Ja          Nee\n",
      "101    Lindholm           Ja          Nee\n",
      "\n",
      "[102 rows x 3 columns]\n"
     ]
    }
   ],
   "source": [
    "query = \"\"\"\n",
    "SELECT *\n",
    "FROM sales_staff\n",
    "\"\"\"\n",
    "\n",
    "employees = pd.read_sql_query(query, conn)\n",
    "\n",
    "# Huidige datum\n",
    "current_date = datetime.now()\n",
    "\n",
    "# Extra kolommen voor 'KortInDienst' en 'LangInDienst'\n",
    "employees['KortInDienst'] = ['Ja' if (current_date - datetime.strptime(date_hired, '%d-%m-%Y')).days < 25*365 else 'Nee' for date_hired in employees['DATE_HIRED']]\n",
    "employees['LangInDienst'] = ['Ja' if (current_date - datetime.strptime(date_hired, '%d-%m-%Y')).days >= 12*365 else 'Nee' for date_hired in employees['DATE_HIRED']]\n",
    "\n",
    "result = employees[['LAST_NAME', 'KortInDienst', 'LangInDienst']]\n",
    "\n",
    "print(result)"
   ]
  }
 ],
 "metadata": {
  "kernelspec": {
   "display_name": "python-in-deds-P4iSP_yI-py3.11",
   "language": "python",
   "name": "python3"
  },
  "language_info": {
   "codemirror_mode": {
    "name": "ipython",
    "version": 3
   },
   "file_extension": ".py",
   "mimetype": "text/x-python",
   "name": "python",
   "nbconvert_exporter": "python",
   "pygments_lexer": "ipython3",
   "version": "3.12.2"
  }
 },
 "nbformat": 4,
 "nbformat_minor": 2
}
